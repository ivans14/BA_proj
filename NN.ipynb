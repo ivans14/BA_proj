{
 "cells": [
  {
   "cell_type": "code",
   "execution_count": 1,
   "metadata": {},
   "outputs": [],
   "source": [
    "import numpy as np\n",
    "import pandas as pd\n",
    "from keras.models import Sequential\n",
    "from keras.layers import Dense, Dropout\n",
    "from sklearn.metrics import confusion_matrix, recall_score, accuracy_score, precision_score\n",
    "from keras.utils import to_categorical\n",
    "from sklearn.preprocessing import OrdinalEncoder\n",
    "\n",
    "%matplotlib inline\n",
    "import matplotlib.pyplot as plt\n"
   ]
  },
  {
   "cell_type": "code",
   "execution_count": 2,
   "metadata": {},
   "outputs": [],
   "source": [
    "data_exp=pd.read_csv('BikeSharing_Bluebikes2022.csv')\n",
    "nat_hol = ['2022-01-01','2022-01-17','2022-02-21','2022-04-17','2022-04-18','2022-05-08','2022-05-30','2022-06-19','2022-06-20','2022-07-04']\n",
    "\n",
    "data_exp['is_Holiday'] = [ 1 if data_exp.iloc[i]['starttime'][0:10] in nat_hol else 0 for i in range(len(data_exp))]\n",
    "data_w = pd.read_csv(\"Boston 2022-01-01 to 2022-08-31.csv\")\n",
    "drop = ['dew', 'sunrise','sunset','moonphase','conditions', 'description','stations','sealevelpressure',\n",
    "'windgust','severerisk', 'uvindex', 'solarenergy', 'solarradiation','preciptype','winddir','name']\n",
    "data_w = data_w.drop(columns = drop)\n",
    "data_w['datetime'] = pd.to_datetime(data_w['datetime'])"
   ]
  },
  {
   "cell_type": "code",
   "execution_count": 3,
   "metadata": {},
   "outputs": [],
   "source": [
    "from datetime import datetime as dt\n",
    "\n",
    "data_exp['starttime'] = pd.to_datetime(data_exp['starttime'], format='%Y-%m-%d %H:%M:%S')\n",
    "data_exp['datetime'] = pd.to_datetime(data_exp['starttime']).dt.date\n",
    "data_exp['datetime'] = pd.to_datetime(data_exp['datetime'])\n",
    "\n",
    "data_merge = data_exp.merge(data_w, how='left', on='datetime')"
   ]
  },
  {
   "cell_type": "code",
   "execution_count": 4,
   "metadata": {},
   "outputs": [],
   "source": [
    "data_merge.columns\n",
    "data_merge = data_merge.drop(columns=(['Unnamed: 0']))"
   ]
  },
  {
   "cell_type": "code",
   "execution_count": 5,
   "metadata": {},
   "outputs": [
    {
     "data": {
      "text/plain": [
       "Index(['tripduration', 'starttime', 'stoptime', 'start station id',\n",
       "       'start station name', 'start station latitude',\n",
       "       'start station longitude', 'end station id', 'end station name',\n",
       "       'end station latitude', 'end station longitude', 'bikeid', 'usertype',\n",
       "       'postal code', 'is_Holiday', 'datetime', 'tempmax', 'tempmin', 'temp',\n",
       "       'feelslikemax', 'feelslikemin', 'feelslike', 'humidity', 'precip',\n",
       "       'precipprob', 'precipcover', 'snow', 'snowdepth', 'windspeed',\n",
       "       'cloudcover', 'visibility', 'icon'],\n",
       "      dtype='object')"
      ]
     },
     "execution_count": 5,
     "metadata": {},
     "output_type": "execute_result"
    }
   ],
   "source": [
    "data_merge.columns\n"
   ]
  },
  {
   "cell_type": "code",
   "execution_count": 6,
   "metadata": {},
   "outputs": [
    {
     "data": {
      "text/plain": [
       "array([178, 189,  94,  19, 107,  36,  58,  60,   4, 377, 342, 491, 362,\n",
       "        43, 121, 381,  10,  81, 332, 328, 233, 176,  55,  80,  12,  68,\n",
       "        32, 202,  54,  74,  39,  66, 356, 116, 398,  42, 352, 330, 426,\n",
       "        67, 225, 234,  91,  76, 161, 386, 374, 345, 437, 487,  40, 415,\n",
       "       149, 183,  23,  71,   6,  72, 131, 118,  87,  86,  25,  97, 119,\n",
       "       338,  69, 359, 446, 239,  22,  47,  26, 125,  33, 157, 105, 471,\n",
       "        41, 174,  30,  16, 400, 177, 191, 152, 378, 218, 179, 403,  75,\n",
       "       443, 379,  17,  46,   7,  11, 226, 363, 479, 190, 536, 141,  78,\n",
       "       181, 139, 380, 417,  95,  90, 364, 549, 529,  44, 151, 376, 100,\n",
       "        24, 137, 104, 389,  20,  96, 108,  98, 272, 187,  21, 541, 370,\n",
       "        59, 393, 163, 413,  65, 215, 175, 414, 186, 318,  93, 344, 554,\n",
       "       472,  63, 169, 196,  51, 419, 331,  84, 478, 515, 115, 213, 372,\n",
       "       361, 192,  31, 136, 197, 138, 110, 273,  37,  49, 228, 456,  73,\n",
       "       206,  70, 407, 194, 193, 440,   9, 480, 102, 327,   8,   3,  99,\n",
       "       530, 180, 544, 184, 447,  29,  89, 346, 195, 235, 405, 399, 404,\n",
       "       143, 212, 365, 553, 462, 334, 470, 279, 159, 452, 387, 408, 126,\n",
       "       217, 390, 162, 358, 103, 385, 117, 550, 333, 495, 507, 475, 280,\n",
       "       282, 205, 445, 441, 547, 208, 433, 483,  85, 351, 201, 531,  77,\n",
       "       203, 109, 171,  82, 185, 353, 214, 200, 319, 397, 424, 221, 336,\n",
       "        56, 150, 548, 488, 271, 525, 146, 170, 188, 458, 335,  15, 455,\n",
       "       182, 463, 461, 533, 509, 222, 360, 502, 486,  92, 539, 224, 401,\n",
       "       371, 329, 236, 489, 101, 296, 492,  14, 124, 348, 142, 394, 540,\n",
       "       350, 156, 135, 482, 442, 160, 140, 395, 523, 133, 111, 145, 402,\n",
       "       258, 219, 508, 367, 425, 494, 532, 505, 481, 528, 518, 337, 355,\n",
       "       506, 520, 173, 485, 535, 493, 466, 144, 473, 341, 340, 349, 522,\n",
       "       503, 391, 392, 469, 373, 432, 519, 499, 497, 496, 467, 436, 490,\n",
       "       545, 434, 527, 232, 422, 538, 498, 537, 210, 468, 448, 396,  27,\n",
       "       557, 526, 524, 555, 521, 546, 504, 474, 558, 484, 561, 112, 409,\n",
       "       406, 560, 556,  79, 114,  13, 459, 460, 354, 428, 516, 517, 421,\n",
       "       477, 559, 423, 255, 347, 513, 562, 416, 260, 384,   1, 339, 343,\n",
       "       430, 412, 427, 511,  35, 512, 465, 510, 464, 410,  57, 368, 542,\n",
       "       129,  53, 211,  64,  48, 227, 122, 357, 204, 128, 167, 130, 199,\n",
       "       543, 216,  50,  52, 454,   5, 120, 113,  61, 435, 259, 431, 563,\n",
       "       317, 106, 564, 565, 308, 566, 514, 567, 568, 569, 570, 572, 571],\n",
       "      dtype=int64)"
      ]
     },
     "execution_count": 6,
     "metadata": {},
     "output_type": "execute_result"
    }
   ],
   "source": [
    "data_merge['start station id'].unique()"
   ]
  },
  {
   "cell_type": "code",
   "execution_count": 7,
   "metadata": {},
   "outputs": [
    {
     "name": "stdout",
     "output_type": "stream",
     "text": [
      "67\n"
     ]
    },
    {
     "data": {
      "text/plain": [
       "49127"
      ]
     },
     "execution_count": 7,
     "metadata": {},
     "output_type": "execute_result"
    }
   ],
   "source": [
    "list = []\n",
    "for i in data_merge['start station id'].unique():\n",
    "    count = data_merge[data_merge['start station id']==i].count()[0]\n",
    "    list.append(count)\n",
    "\n",
    "maxim = data_merge['start station id'].unique()[list.index(max(list))]\n",
    "print(maxim)\n",
    "data_merge[data_merge['start station id']==maxim].count()[0]\n",
    "\n"
   ]
  },
  {
   "cell_type": "code",
   "execution_count": 8,
   "metadata": {},
   "outputs": [
    {
     "data": {
      "text/plain": [
       "Index(['tripduration', 'starttime', 'stoptime', 'start station id',\n",
       "       'start station name', 'start station latitude',\n",
       "       'start station longitude', 'end station id', 'end station name',\n",
       "       'end station latitude', 'end station longitude', 'bikeid', 'usertype',\n",
       "       'postal code', 'is_Holiday', 'datetime', 'tempmax', 'tempmin', 'temp',\n",
       "       'feelslikemax', 'feelslikemin', 'feelslike', 'humidity', 'precip',\n",
       "       'precipprob', 'precipcover', 'snow', 'snowdepth', 'windspeed',\n",
       "       'cloudcover', 'visibility', 'icon'],\n",
       "      dtype='object')"
      ]
     },
     "execution_count": 8,
     "metadata": {},
     "output_type": "execute_result"
    }
   ],
   "source": [
    "data_merge.columns"
   ]
  },
  {
   "cell_type": "code",
   "execution_count": 9,
   "metadata": {},
   "outputs": [],
   "source": [
    "data_merge = data_merge[data_merge['start station id']==maxim]\n",
    "data_nn = data_merge.drop(columns=['start station id',\n",
    "       'start station name', 'start station latitude',\n",
    "       'start station longitude','end station name',\n",
    "       'end station latitude', 'end station longitude','bikeid','postal code', 'stoptime'])"
   ]
  },
  {
   "cell_type": "code",
   "execution_count": 10,
   "metadata": {},
   "outputs": [
    {
     "data": {
      "text/plain": [
       "True"
      ]
     },
     "execution_count": 10,
     "metadata": {},
     "output_type": "execute_result"
    }
   ],
   "source": [
    "ran = data_nn['starttime'].iloc[3]\n",
    "ran.hour\n",
    "(data_nn['starttime'].iloc[0].hour >= 0) & (data_nn['starttime'].iloc[0].hour < 6)"
   ]
  },
  {
   "cell_type": "code",
   "execution_count": 11,
   "metadata": {},
   "outputs": [
    {
     "data": {
      "text/plain": [
       "range(0, 49127)"
      ]
     },
     "execution_count": 11,
     "metadata": {},
     "output_type": "execute_result"
    }
   ],
   "source": [
    "range(len(data_nn))\n",
    "# data_nn['tripduration'].iloc[0]=2\n",
    "# data_nn['tripduration'].iloc[0]"
   ]
  },
  {
   "cell_type": "code",
   "execution_count": 12,
   "metadata": {},
   "outputs": [
    {
     "name": "stderr",
     "output_type": "stream",
     "text": [
      "C:\\Users\\mirun\\AppData\\Local\\Temp\\ipykernel_2180\\3777789447.py:10: SettingWithCopyWarning: \n",
      "A value is trying to be set on a copy of a slice from a DataFrame\n",
      "\n",
      "See the caveats in the documentation: https://pandas.pydata.org/pandas-docs/stable/user_guide/indexing.html#returning-a-view-versus-a-copy\n",
      "  data_nn['time_of_day'].iloc[i] = 'night'\n"
     ]
    }
   ],
   "source": [
    "data_nn['time_of_day'] = 0\n",
    "for i in range(len(data_nn)):\n",
    "    if (data_nn['starttime'].iloc[i].hour >= 6) & (data_nn['starttime'].iloc[i].hour < 12):\n",
    "        data_nn['time_of_day'].iloc[i] = 'morning'\n",
    "    elif (data_nn['starttime'].iloc[i].hour >= 12) & (data_nn['starttime'].iloc[i].hour < 18):\n",
    "        data_nn['time_of_day'].iloc[i] = 'afternoon'\n",
    "    elif (data_nn['starttime'].iloc[i].hour >= 18) & (data_nn['starttime'].iloc[i].hour < 24):\n",
    "        data_nn['time_of_day'].iloc[i] = 'evening'\n",
    "    elif (data_nn['starttime'].iloc[i].hour >= 0) & (data_nn['starttime'].iloc[i].hour < 6):\n",
    "        data_nn['time_of_day'].iloc[i] = 'night'\n"
   ]
  },
  {
   "cell_type": "code",
   "execution_count": 13,
   "metadata": {},
   "outputs": [],
   "source": [
    "data_nn = data_nn.drop(columns=['starttime','datetime'])"
   ]
  },
  {
   "cell_type": "code",
   "execution_count": 14,
   "metadata": {},
   "outputs": [
    {
     "data": {
      "text/plain": [
       "Index(['tripduration', 'end station id', 'usertype', 'is_Holiday', 'tempmax',\n",
       "       'tempmin', 'temp', 'feelslikemax', 'feelslikemin', 'feelslike',\n",
       "       'humidity', 'precip', 'precipprob', 'precipcover', 'snow', 'snowdepth',\n",
       "       'windspeed', 'cloudcover', 'visibility', 'icon', 'time_of_day'],\n",
       "      dtype='object')"
      ]
     },
     "execution_count": 14,
     "metadata": {},
     "output_type": "execute_result"
    }
   ],
   "source": [
    "data_nn.columns"
   ]
  },
  {
   "cell_type": "code",
   "execution_count": 15,
   "metadata": {},
   "outputs": [],
   "source": [
    "data_nn_dummies = pd.get_dummies(data_nn, columns=['time_of_day', 'icon', 'usertype'])"
   ]
  },
  {
   "cell_type": "code",
   "execution_count": 16,
   "metadata": {},
   "outputs": [],
   "source": [
    "data_nn_dummies_std = data_nn_dummies.copy()"
   ]
  },
  {
   "cell_type": "code",
   "execution_count": 17,
   "metadata": {},
   "outputs": [],
   "source": [
    "col_std = ['tripduration', 'tempmax',\n",
    "       'tempmin', 'temp', 'feelslikemax', 'feelslikemin', 'feelslike',\n",
    "       'humidity', 'precip', 'precipprob', 'precipcover', 'snow', 'snowdepth',\n",
    "       'windspeed', 'cloudcover', 'visibility']\n",
    "\n",
    "data_nn_dummies_std[col_std]= (data_nn_dummies_std[col_std] - data_nn_dummies_std[col_std].mean()) / data_nn_dummies_std[col_std].std()"
   ]
  },
  {
   "cell_type": "code",
   "execution_count": 22,
   "metadata": {},
   "outputs": [
    {
     "data": {
      "text/html": [
       "<div>\n",
       "<style scoped>\n",
       "    .dataframe tbody tr th:only-of-type {\n",
       "        vertical-align: middle;\n",
       "    }\n",
       "\n",
       "    .dataframe tbody tr th {\n",
       "        vertical-align: top;\n",
       "    }\n",
       "\n",
       "    .dataframe thead th {\n",
       "        text-align: right;\n",
       "    }\n",
       "</style>\n",
       "<table border=\"1\" class=\"dataframe\">\n",
       "  <thead>\n",
       "    <tr style=\"text-align: right;\">\n",
       "      <th></th>\n",
       "      <th>tripduration</th>\n",
       "      <th>end station id</th>\n",
       "      <th>is_Holiday</th>\n",
       "      <th>tempmax</th>\n",
       "      <th>tempmin</th>\n",
       "      <th>temp</th>\n",
       "      <th>feelslikemax</th>\n",
       "      <th>feelslikemin</th>\n",
       "      <th>feelslike</th>\n",
       "      <th>humidity</th>\n",
       "      <th>...</th>\n",
       "      <th>time_of_day_evening</th>\n",
       "      <th>time_of_day_morning</th>\n",
       "      <th>time_of_day_night</th>\n",
       "      <th>icon_clear-day</th>\n",
       "      <th>icon_cloudy</th>\n",
       "      <th>icon_partly-cloudy-day</th>\n",
       "      <th>icon_rain</th>\n",
       "      <th>icon_snow</th>\n",
       "      <th>usertype_Customer</th>\n",
       "      <th>usertype_Subscriber</th>\n",
       "    </tr>\n",
       "  </thead>\n",
       "  <tbody>\n",
       "    <tr>\n",
       "      <th>62</th>\n",
       "      <td>0.070575</td>\n",
       "      <td>67</td>\n",
       "      <td>1</td>\n",
       "      <td>-0.919488</td>\n",
       "      <td>-0.462015</td>\n",
       "      <td>-0.741829</td>\n",
       "      <td>-0.780282</td>\n",
       "      <td>-0.359703</td>\n",
       "      <td>-0.587352</td>\n",
       "      <td>2.489714</td>\n",
       "      <td>...</td>\n",
       "      <td>0</td>\n",
       "      <td>0</td>\n",
       "      <td>1</td>\n",
       "      <td>0</td>\n",
       "      <td>0</td>\n",
       "      <td>0</td>\n",
       "      <td>1</td>\n",
       "      <td>0</td>\n",
       "      <td>0</td>\n",
       "      <td>1</td>\n",
       "    </tr>\n",
       "    <tr>\n",
       "      <th>75</th>\n",
       "      <td>-0.036324</td>\n",
       "      <td>139</td>\n",
       "      <td>1</td>\n",
       "      <td>-0.919488</td>\n",
       "      <td>-0.462015</td>\n",
       "      <td>-0.741829</td>\n",
       "      <td>-0.780282</td>\n",
       "      <td>-0.359703</td>\n",
       "      <td>-0.587352</td>\n",
       "      <td>2.489714</td>\n",
       "      <td>...</td>\n",
       "      <td>0</td>\n",
       "      <td>0</td>\n",
       "      <td>1</td>\n",
       "      <td>0</td>\n",
       "      <td>0</td>\n",
       "      <td>0</td>\n",
       "      <td>1</td>\n",
       "      <td>0</td>\n",
       "      <td>0</td>\n",
       "      <td>1</td>\n",
       "    </tr>\n",
       "    <tr>\n",
       "      <th>76</th>\n",
       "      <td>-0.036764</td>\n",
       "      <td>139</td>\n",
       "      <td>1</td>\n",
       "      <td>-0.919488</td>\n",
       "      <td>-0.462015</td>\n",
       "      <td>-0.741829</td>\n",
       "      <td>-0.780282</td>\n",
       "      <td>-0.359703</td>\n",
       "      <td>-0.587352</td>\n",
       "      <td>2.489714</td>\n",
       "      <td>...</td>\n",
       "      <td>0</td>\n",
       "      <td>0</td>\n",
       "      <td>1</td>\n",
       "      <td>0</td>\n",
       "      <td>0</td>\n",
       "      <td>0</td>\n",
       "      <td>1</td>\n",
       "      <td>0</td>\n",
       "      <td>0</td>\n",
       "      <td>1</td>\n",
       "    </tr>\n",
       "    <tr>\n",
       "      <th>83</th>\n",
       "      <td>-0.030284</td>\n",
       "      <td>55</td>\n",
       "      <td>1</td>\n",
       "      <td>-0.919488</td>\n",
       "      <td>-0.462015</td>\n",
       "      <td>-0.741829</td>\n",
       "      <td>-0.780282</td>\n",
       "      <td>-0.359703</td>\n",
       "      <td>-0.587352</td>\n",
       "      <td>2.489714</td>\n",
       "      <td>...</td>\n",
       "      <td>0</td>\n",
       "      <td>0</td>\n",
       "      <td>1</td>\n",
       "      <td>0</td>\n",
       "      <td>0</td>\n",
       "      <td>0</td>\n",
       "      <td>1</td>\n",
       "      <td>0</td>\n",
       "      <td>0</td>\n",
       "      <td>1</td>\n",
       "    </tr>\n",
       "    <tr>\n",
       "      <th>136</th>\n",
       "      <td>0.022945</td>\n",
       "      <td>36</td>\n",
       "      <td>1</td>\n",
       "      <td>-0.919488</td>\n",
       "      <td>-0.462015</td>\n",
       "      <td>-0.741829</td>\n",
       "      <td>-0.780282</td>\n",
       "      <td>-0.359703</td>\n",
       "      <td>-0.587352</td>\n",
       "      <td>2.489714</td>\n",
       "      <td>...</td>\n",
       "      <td>0</td>\n",
       "      <td>0</td>\n",
       "      <td>1</td>\n",
       "      <td>0</td>\n",
       "      <td>0</td>\n",
       "      <td>0</td>\n",
       "      <td>1</td>\n",
       "      <td>0</td>\n",
       "      <td>0</td>\n",
       "      <td>1</td>\n",
       "    </tr>\n",
       "    <tr>\n",
       "      <th>...</th>\n",
       "      <td>...</td>\n",
       "      <td>...</td>\n",
       "      <td>...</td>\n",
       "      <td>...</td>\n",
       "      <td>...</td>\n",
       "      <td>...</td>\n",
       "      <td>...</td>\n",
       "      <td>...</td>\n",
       "      <td>...</td>\n",
       "      <td>...</td>\n",
       "      <td>...</td>\n",
       "      <td>...</td>\n",
       "      <td>...</td>\n",
       "      <td>...</td>\n",
       "      <td>...</td>\n",
       "      <td>...</td>\n",
       "      <td>...</td>\n",
       "      <td>...</td>\n",
       "      <td>...</td>\n",
       "      <td>...</td>\n",
       "      <td>...</td>\n",
       "    </tr>\n",
       "    <tr>\n",
       "      <th>2305598</th>\n",
       "      <td>0.016716</td>\n",
       "      <td>96</td>\n",
       "      <td>0</td>\n",
       "      <td>0.952752</td>\n",
       "      <td>1.172287</td>\n",
       "      <td>1.029337</td>\n",
       "      <td>0.900253</td>\n",
       "      <td>1.093995</td>\n",
       "      <td>0.959238</td>\n",
       "      <td>0.045236</td>\n",
       "      <td>...</td>\n",
       "      <td>1</td>\n",
       "      <td>0</td>\n",
       "      <td>0</td>\n",
       "      <td>0</td>\n",
       "      <td>0</td>\n",
       "      <td>0</td>\n",
       "      <td>1</td>\n",
       "      <td>0</td>\n",
       "      <td>0</td>\n",
       "      <td>1</td>\n",
       "    </tr>\n",
       "    <tr>\n",
       "      <th>2305608</th>\n",
       "      <td>-0.002851</td>\n",
       "      <td>143</td>\n",
       "      <td>0</td>\n",
       "      <td>0.952752</td>\n",
       "      <td>1.172287</td>\n",
       "      <td>1.029337</td>\n",
       "      <td>0.900253</td>\n",
       "      <td>1.093995</td>\n",
       "      <td>0.959238</td>\n",
       "      <td>0.045236</td>\n",
       "      <td>...</td>\n",
       "      <td>1</td>\n",
       "      <td>0</td>\n",
       "      <td>0</td>\n",
       "      <td>0</td>\n",
       "      <td>0</td>\n",
       "      <td>0</td>\n",
       "      <td>1</td>\n",
       "      <td>0</td>\n",
       "      <td>0</td>\n",
       "      <td>1</td>\n",
       "    </tr>\n",
       "    <tr>\n",
       "      <th>2305623</th>\n",
       "      <td>-0.003984</td>\n",
       "      <td>143</td>\n",
       "      <td>0</td>\n",
       "      <td>0.952752</td>\n",
       "      <td>1.172287</td>\n",
       "      <td>1.029337</td>\n",
       "      <td>0.900253</td>\n",
       "      <td>1.093995</td>\n",
       "      <td>0.959238</td>\n",
       "      <td>0.045236</td>\n",
       "      <td>...</td>\n",
       "      <td>1</td>\n",
       "      <td>0</td>\n",
       "      <td>0</td>\n",
       "      <td>0</td>\n",
       "      <td>0</td>\n",
       "      <td>0</td>\n",
       "      <td>1</td>\n",
       "      <td>0</td>\n",
       "      <td>0</td>\n",
       "      <td>1</td>\n",
       "    </tr>\n",
       "    <tr>\n",
       "      <th>2305661</th>\n",
       "      <td>-0.046643</td>\n",
       "      <td>53</td>\n",
       "      <td>0</td>\n",
       "      <td>0.952752</td>\n",
       "      <td>1.172287</td>\n",
       "      <td>1.029337</td>\n",
       "      <td>0.900253</td>\n",
       "      <td>1.093995</td>\n",
       "      <td>0.959238</td>\n",
       "      <td>0.045236</td>\n",
       "      <td>...</td>\n",
       "      <td>1</td>\n",
       "      <td>0</td>\n",
       "      <td>0</td>\n",
       "      <td>0</td>\n",
       "      <td>0</td>\n",
       "      <td>0</td>\n",
       "      <td>1</td>\n",
       "      <td>0</td>\n",
       "      <td>0</td>\n",
       "      <td>1</td>\n",
       "    </tr>\n",
       "    <tr>\n",
       "      <th>2305730</th>\n",
       "      <td>-0.031228</td>\n",
       "      <td>84</td>\n",
       "      <td>0</td>\n",
       "      <td>0.952752</td>\n",
       "      <td>1.172287</td>\n",
       "      <td>1.029337</td>\n",
       "      <td>0.900253</td>\n",
       "      <td>1.093995</td>\n",
       "      <td>0.959238</td>\n",
       "      <td>0.045236</td>\n",
       "      <td>...</td>\n",
       "      <td>1</td>\n",
       "      <td>0</td>\n",
       "      <td>0</td>\n",
       "      <td>0</td>\n",
       "      <td>0</td>\n",
       "      <td>0</td>\n",
       "      <td>1</td>\n",
       "      <td>0</td>\n",
       "      <td>0</td>\n",
       "      <td>1</td>\n",
       "    </tr>\n",
       "  </tbody>\n",
       "</table>\n",
       "<p>49127 rows × 29 columns</p>\n",
       "</div>"
      ],
      "text/plain": [
       "         tripduration  end station id  is_Holiday   tempmax   tempmin  \\\n",
       "62           0.070575              67           1 -0.919488 -0.462015   \n",
       "75          -0.036324             139           1 -0.919488 -0.462015   \n",
       "76          -0.036764             139           1 -0.919488 -0.462015   \n",
       "83          -0.030284              55           1 -0.919488 -0.462015   \n",
       "136          0.022945              36           1 -0.919488 -0.462015   \n",
       "...               ...             ...         ...       ...       ...   \n",
       "2305598      0.016716              96           0  0.952752  1.172287   \n",
       "2305608     -0.002851             143           0  0.952752  1.172287   \n",
       "2305623     -0.003984             143           0  0.952752  1.172287   \n",
       "2305661     -0.046643              53           0  0.952752  1.172287   \n",
       "2305730     -0.031228              84           0  0.952752  1.172287   \n",
       "\n",
       "             temp  feelslikemax  feelslikemin  feelslike  humidity  ...  \\\n",
       "62      -0.741829     -0.780282     -0.359703  -0.587352  2.489714  ...   \n",
       "75      -0.741829     -0.780282     -0.359703  -0.587352  2.489714  ...   \n",
       "76      -0.741829     -0.780282     -0.359703  -0.587352  2.489714  ...   \n",
       "83      -0.741829     -0.780282     -0.359703  -0.587352  2.489714  ...   \n",
       "136     -0.741829     -0.780282     -0.359703  -0.587352  2.489714  ...   \n",
       "...           ...           ...           ...        ...       ...  ...   \n",
       "2305598  1.029337      0.900253      1.093995   0.959238  0.045236  ...   \n",
       "2305608  1.029337      0.900253      1.093995   0.959238  0.045236  ...   \n",
       "2305623  1.029337      0.900253      1.093995   0.959238  0.045236  ...   \n",
       "2305661  1.029337      0.900253      1.093995   0.959238  0.045236  ...   \n",
       "2305730  1.029337      0.900253      1.093995   0.959238  0.045236  ...   \n",
       "\n",
       "         time_of_day_evening  time_of_day_morning  time_of_day_night  \\\n",
       "62                         0                    0                  1   \n",
       "75                         0                    0                  1   \n",
       "76                         0                    0                  1   \n",
       "83                         0                    0                  1   \n",
       "136                        0                    0                  1   \n",
       "...                      ...                  ...                ...   \n",
       "2305598                    1                    0                  0   \n",
       "2305608                    1                    0                  0   \n",
       "2305623                    1                    0                  0   \n",
       "2305661                    1                    0                  0   \n",
       "2305730                    1                    0                  0   \n",
       "\n",
       "         icon_clear-day  icon_cloudy  icon_partly-cloudy-day  icon_rain  \\\n",
       "62                    0            0                       0          1   \n",
       "75                    0            0                       0          1   \n",
       "76                    0            0                       0          1   \n",
       "83                    0            0                       0          1   \n",
       "136                   0            0                       0          1   \n",
       "...                 ...          ...                     ...        ...   \n",
       "2305598               0            0                       0          1   \n",
       "2305608               0            0                       0          1   \n",
       "2305623               0            0                       0          1   \n",
       "2305661               0            0                       0          1   \n",
       "2305730               0            0                       0          1   \n",
       "\n",
       "         icon_snow  usertype_Customer  usertype_Subscriber  \n",
       "62               0                  0                    1  \n",
       "75               0                  0                    1  \n",
       "76               0                  0                    1  \n",
       "83               0                  0                    1  \n",
       "136              0                  0                    1  \n",
       "...            ...                ...                  ...  \n",
       "2305598          0                  0                    1  \n",
       "2305608          0                  0                    1  \n",
       "2305623          0                  0                    1  \n",
       "2305661          0                  0                    1  \n",
       "2305730          0                  0                    1  \n",
       "\n",
       "[49127 rows x 29 columns]"
      ]
     },
     "execution_count": 22,
     "metadata": {},
     "output_type": "execute_result"
    }
   ],
   "source": [
    "data_nn_dummies_std"
   ]
  },
  {
   "cell_type": "code",
   "execution_count": 56,
   "metadata": {},
   "outputs": [],
   "source": [
    "uniques = (data_nn_dummies_std['end station id'].unique()).tolist()\n",
    "uniques.sort()\n",
    "data_nn_dummies_std['categorical_target'] = [uniques.index(data_nn_dummies_std['end station id'].iloc[i]) for i in range(len(data_nn_dummies_std))]\n"
   ]
  },
  {
   "cell_type": "code",
   "execution_count": 62,
   "metadata": {},
   "outputs": [],
   "source": [
    "data_nn_dummies_std = data_nn_dummies_std.drop(columns=['end station id'])"
   ]
  },
  {
   "cell_type": "code",
   "execution_count": 63,
   "metadata": {},
   "outputs": [
    {
     "data": {
      "text/plain": [
       "array([ 59, 125,  48,  31, 291,  98,  60, 150,  53,  67,  97, 232, 180,\n",
       "        39, 105,  87,  81, 178, 236, 230,   9, 323, 309, 243,  68, 211,\n",
       "        66, 216, 156,  38,  64,  95, 239, 223, 161,  88,  72, 157, 127,\n",
       "       151,  85,  29,  75, 152,  79,   7, 258,  89, 149,  80, 208,  18,\n",
       "        22, 209,  35, 261, 292,  47,  28, 240, 270, 324, 184,  36, 286,\n",
       "       294,   4,   8, 162, 203, 234, 198,  14,  19, 226,  90,  33, 250,\n",
       "       254, 106, 140, 165, 148, 265,  65, 100, 237, 249,   1, 129, 253,\n",
       "        94, 181,  16,  10, 276,  77,  44, 185,  84, 205, 251,  58, 238,\n",
       "       175,  73, 182, 327,  78, 206, 235, 248, 174, 119, 303,  32, 268,\n",
       "       107, 326,  62, 213,  70, 186,  12, 167, 124,  37, 130,  42, 138,\n",
       "       154, 204,  15,  69, 302,  34,  86, 120, 207, 101, 222,  92, 179,\n",
       "        52,  51, 281,  61,  49,  13, 192, 153,  83, 147, 329, 301,  25,\n",
       "       159,  40, 289,   2, 218, 221, 196, 212,  99, 314, 231,   6, 133,\n",
       "        63, 319, 134,  24, 242, 278, 194, 287,  26, 228, 141, 263,  17,\n",
       "       123, 108,  27, 160, 225, 255,   5, 300,  23, 158,  20, 128, 187,\n",
       "       171,  76, 259, 227, 200, 126, 195, 304, 298,  71, 202, 282, 114,\n",
       "       252,  57, 271, 214, 135, 193, 197, 111, 257,  93, 280, 283, 139,\n",
       "       224, 177, 131, 217, 267, 295, 330, 264, 241, 136, 315, 155, 256,\n",
       "       266, 284, 188, 325, 201,  30, 269, 299, 272, 137, 313, 293,  11,\n",
       "       331, 168,  50, 145, 189, 306,  46, 183, 112, 277, 115, 164, 143,\n",
       "         3,  45, 122, 110, 310, 318, 172, 144,  41,  54, 279,  55, 117,\n",
       "        43, 297, 285, 322, 104, 118, 274, 215, 173, 311,  91, 109,  56,\n",
       "       142, 316, 176, 321, 103, 169,  21, 191,  74, 260, 132, 332, 333,\n",
       "        82, 275, 245, 244, 317, 116, 170, 220, 233, 305, 246, 163, 102,\n",
       "       219, 262, 199, 121,  96, 166, 320, 113,   0, 146, 328, 229, 288,\n",
       "       334, 190, 296, 273, 312, 308, 335, 210, 247, 336, 307, 290],\n",
       "      dtype=int64)"
      ]
     },
     "execution_count": 63,
     "metadata": {},
     "output_type": "execute_result"
    }
   ],
   "source": [
    "target = data_nn_dummies_std['categorical_target']\n",
    "data_nn_dummies_std.set_index('categorical_target')\n",
    "target.unique()"
   ]
  },
  {
   "cell_type": "code",
   "execution_count": 64,
   "metadata": {},
   "outputs": [
    {
     "name": "stderr",
     "output_type": "stream",
     "text": [
      "C:\\Users\\mirun\\AppData\\Local\\Temp\\ipykernel_2180\\2643619492.py:4: FutureWarning: The behavior of `series[i:j]` with an integer-dtype index is deprecated. In a future version, this will be treated as *label-based* indexing, consistent with e.g. `series[i]` lookups. To retain the old behavior, use `series.iloc[i:j]`. To get the future behavior, use `series.loc[i:j]`.\n",
      "  y_train = target[:split]\n",
      "C:\\Users\\mirun\\AppData\\Local\\Temp\\ipykernel_2180\\2643619492.py:7: FutureWarning: The behavior of `series[i:j]` with an integer-dtype index is deprecated. In a future version, this will be treated as *label-based* indexing, consistent with e.g. `series[i]` lookups. To retain the old behavior, use `series.iloc[i:j]`. To get the future behavior, use `series.loc[i:j]`.\n",
      "  y_val = target[split: split_val]\n",
      "C:\\Users\\mirun\\AppData\\Local\\Temp\\ipykernel_2180\\2643619492.py:11: FutureWarning: The behavior of `series[i:j]` with an integer-dtype index is deprecated. In a future version, this will be treated as *label-based* indexing, consistent with e.g. `series[i]` lookups. To retain the old behavior, use `series.iloc[i:j]`. To get the future behavior, use `series.loc[i:j]`.\n",
      "  y_test = target[split_val:]\n"
     ]
    }
   ],
   "source": [
    "split = int(len(data_nn_dummies_std)*0.6)\n",
    "split_val = int(len(data_nn_dummies_std)*0.7)\n",
    "x_train = data_nn_dummies_std[:split]\n",
    "y_train = target[:split]\n",
    "y_train = np.asarray(y_train).astype('float32').reshape((-1,1))\n",
    "x_val = data_nn_dummies_std[split: split_val]\n",
    "y_val = target[split: split_val]\n",
    "y_val = np.asarray(y_val).astype('float32').reshape((-1,1))\n",
    "\n",
    "x_test = data_nn_dummies_std[split_val:]\n",
    "y_test = target[split_val:]\n",
    "y_test = np.asarray(y_test).astype('float32').reshape((-1,1))\n"
   ]
  },
  {
   "cell_type": "code",
   "execution_count": 65,
   "metadata": {},
   "outputs": [
    {
     "name": "stdout",
     "output_type": "stream",
     "text": [
      "29476 4912 14739 True\n"
     ]
    }
   ],
   "source": [
    "print(len(x_train), len(x_val) ,len(x_test),len(x_train)+len(x_val)+len(x_test) == len(data_nn_dummies_std))"
   ]
  },
  {
   "cell_type": "code",
   "execution_count": 66,
   "metadata": {},
   "outputs": [
    {
     "data": {
      "text/plain": [
       "337"
      ]
     },
     "execution_count": 66,
     "metadata": {},
     "output_type": "execute_result"
    }
   ],
   "source": [
    "num_features = x_train.shape[1]\n",
    "num_output = len(target.unique())\n",
    "num_output\n"
   ]
  },
  {
   "cell_type": "code",
   "execution_count": 72,
   "metadata": {},
   "outputs": [
    {
     "data": {
      "text/plain": [
       "29"
      ]
     },
     "execution_count": 72,
     "metadata": {},
     "output_type": "execute_result"
    }
   ],
   "source": [
    "x_train.shape[1]"
   ]
  },
  {
   "cell_type": "code",
   "execution_count": 99,
   "metadata": {},
   "outputs": [],
   "source": [
    "import keras\n",
    "from keras.models import Sequential\n",
    "from keras.layers import Dense, Dropout\n",
    "\n",
    "# define the keras model\n",
    "model = Sequential()\n",
    "model.add(Dense(800, input_shape = (x_train.shape[1],), activation='relu'))\n",
    "# model.add(Dropout(rate=0.5))\n",
    "# model.add(Dense(600, activation='relu'))\n",
    "# model.add(Dropout(rate=0.5))\n",
    "model.add(Dense(500, activation='relu'))\n",
    "# model.add(Dropout(rate=0.5))\n",
    "model.add(Dense(num_output, activation='softmax'))"
   ]
  },
  {
   "cell_type": "code",
   "execution_count": 109,
   "metadata": {},
   "outputs": [
    {
     "name": "stdout",
     "output_type": "stream",
     "text": [
      "Epoch 1/50\n",
      "59/59 [==============================] - 1s 14ms/step - loss: 1.7017 - accuracy: 0.6298 - val_loss: 1.2448 - val_accuracy: 0.7140\n",
      "Epoch 2/50\n",
      "59/59 [==============================] - 1s 13ms/step - loss: 0.4992 - accuracy: 0.8284 - val_loss: 1.2290 - val_accuracy: 0.7392\n",
      "Epoch 3/50\n",
      "59/59 [==============================] - 1s 13ms/step - loss: 0.4744 - accuracy: 0.8327 - val_loss: 1.2147 - val_accuracy: 0.7362\n",
      "Epoch 4/50\n",
      "59/59 [==============================] - 1s 13ms/step - loss: 0.4783 - accuracy: 0.8311 - val_loss: 1.2484 - val_accuracy: 0.7307\n",
      "Epoch 5/50\n",
      "59/59 [==============================] - 1s 12ms/step - loss: 0.4802 - accuracy: 0.8288 - val_loss: 1.2539 - val_accuracy: 0.7296\n",
      "Epoch 6/50\n",
      "59/59 [==============================] - 1s 13ms/step - loss: 0.4807 - accuracy: 0.8293 - val_loss: 1.2620 - val_accuracy: 0.7250\n",
      "Epoch 7/50\n",
      "59/59 [==============================] - 1s 13ms/step - loss: 0.4740 - accuracy: 0.8339 - val_loss: 1.2903 - val_accuracy: 0.7323\n",
      "Epoch 8/50\n",
      "59/59 [==============================] - 1s 13ms/step - loss: 0.4736 - accuracy: 0.8336 - val_loss: 1.2810 - val_accuracy: 0.7077\n",
      "Epoch 9/50\n",
      "59/59 [==============================] - 1s 13ms/step - loss: 0.4795 - accuracy: 0.8340 - val_loss: 1.2773 - val_accuracy: 0.7368\n",
      "Epoch 10/50\n",
      "59/59 [==============================] - 1s 13ms/step - loss: 0.4626 - accuracy: 0.8370 - val_loss: 1.2696 - val_accuracy: 0.7476\n",
      "Epoch 11/50\n",
      "59/59 [==============================] - 1s 13ms/step - loss: 0.4590 - accuracy: 0.8388 - val_loss: 1.2910 - val_accuracy: 0.7345\n",
      "Epoch 12/50\n",
      "59/59 [==============================] - 1s 13ms/step - loss: 0.4615 - accuracy: 0.8342 - val_loss: 1.3901 - val_accuracy: 0.7138\n",
      "Epoch 13/50\n",
      "59/59 [==============================] - 1s 14ms/step - loss: 0.4747 - accuracy: 0.8280 - val_loss: 1.3778 - val_accuracy: 0.7195\n",
      "Epoch 14/50\n",
      "59/59 [==============================] - 1s 13ms/step - loss: 0.4831 - accuracy: 0.8217 - val_loss: 1.4181 - val_accuracy: 0.7272\n",
      "Epoch 15/50\n",
      "59/59 [==============================] - 1s 13ms/step - loss: 0.4683 - accuracy: 0.8322 - val_loss: 1.4330 - val_accuracy: 0.7142\n",
      "Epoch 16/50\n",
      "59/59 [==============================] - 1s 13ms/step - loss: 0.4670 - accuracy: 0.8355 - val_loss: 1.4475 - val_accuracy: 0.7280\n",
      "Epoch 17/50\n",
      "59/59 [==============================] - 1s 13ms/step - loss: 0.4858 - accuracy: 0.8241 - val_loss: 1.4039 - val_accuracy: 0.7237\n",
      "Epoch 18/50\n",
      "59/59 [==============================] - 1s 12ms/step - loss: 0.5178 - accuracy: 0.8022 - val_loss: 1.6874 - val_accuracy: 0.6268\n",
      "Epoch 19/50\n",
      "59/59 [==============================] - 1s 13ms/step - loss: 0.6206 - accuracy: 0.7687 - val_loss: 1.3958 - val_accuracy: 0.7191\n",
      "Epoch 20/50\n",
      "59/59 [==============================] - 1s 14ms/step - loss: 0.4574 - accuracy: 0.8328 - val_loss: 1.3538 - val_accuracy: 0.7264\n",
      "Epoch 21/50\n",
      "59/59 [==============================] - 1s 14ms/step - loss: 0.4536 - accuracy: 0.8345 - val_loss: 1.3847 - val_accuracy: 0.7345\n",
      "Epoch 22/50\n",
      "59/59 [==============================] - 1s 16ms/step - loss: 0.4511 - accuracy: 0.8361 - val_loss: 1.3945 - val_accuracy: 0.7095\n",
      "Epoch 23/50\n",
      "59/59 [==============================] - 1s 15ms/step - loss: 0.4581 - accuracy: 0.8306 - val_loss: 1.3958 - val_accuracy: 0.7357\n",
      "Epoch 24/50\n",
      "59/59 [==============================] - 1s 15ms/step - loss: 0.4494 - accuracy: 0.8424 - val_loss: 1.3997 - val_accuracy: 0.7447\n",
      "Epoch 25/50\n",
      "59/59 [==============================] - 1s 16ms/step - loss: 0.4488 - accuracy: 0.8393 - val_loss: 1.4941 - val_accuracy: 0.6926\n",
      "Epoch 26/50\n",
      "59/59 [==============================] - 1s 14ms/step - loss: 0.4588 - accuracy: 0.8308 - val_loss: 1.4434 - val_accuracy: 0.7211\n",
      "Epoch 27/50\n",
      "59/59 [==============================] - 1s 14ms/step - loss: 0.4233 - accuracy: 0.8495 - val_loss: 1.4809 - val_accuracy: 0.7327\n",
      "Epoch 28/50\n",
      "59/59 [==============================] - 1s 13ms/step - loss: 0.6206 - accuracy: 0.7724 - val_loss: 1.5850 - val_accuracy: 0.6785\n",
      "Epoch 29/50\n",
      "59/59 [==============================] - 1s 13ms/step - loss: 0.4787 - accuracy: 0.8169 - val_loss: 1.4893 - val_accuracy: 0.7156\n",
      "Epoch 30/50\n",
      "59/59 [==============================] - 1s 13ms/step - loss: 0.4310 - accuracy: 0.8480 - val_loss: 1.3943 - val_accuracy: 0.7412\n",
      "Epoch 31/50\n",
      "59/59 [==============================] - 1s 13ms/step - loss: 0.4072 - accuracy: 0.8560 - val_loss: 1.4181 - val_accuracy: 0.7453\n",
      "Epoch 32/50\n",
      "59/59 [==============================] - 1s 13ms/step - loss: 0.4081 - accuracy: 0.8522 - val_loss: 1.4354 - val_accuracy: 0.7390\n",
      "Epoch 33/50\n",
      "59/59 [==============================] - 1s 13ms/step - loss: 0.4085 - accuracy: 0.8514 - val_loss: 1.4302 - val_accuracy: 0.7427\n",
      "Epoch 34/50\n",
      "59/59 [==============================] - 1s 13ms/step - loss: 0.4066 - accuracy: 0.8510 - val_loss: 1.4263 - val_accuracy: 0.7370\n",
      "Epoch 35/50\n",
      "59/59 [==============================] - 1s 13ms/step - loss: 0.4089 - accuracy: 0.8504 - val_loss: 1.5177 - val_accuracy: 0.6979\n",
      "Epoch 36/50\n",
      "59/59 [==============================] - 1s 14ms/step - loss: 0.4357 - accuracy: 0.8379 - val_loss: 1.5480 - val_accuracy: 0.7205\n",
      "Epoch 37/50\n",
      "59/59 [==============================] - 1s 14ms/step - loss: 0.4196 - accuracy: 0.8442 - val_loss: 1.5785 - val_accuracy: 0.6806\n",
      "Epoch 38/50\n",
      "59/59 [==============================] - 1s 17ms/step - loss: 0.4277 - accuracy: 0.8434 - val_loss: 1.5555 - val_accuracy: 0.7197\n",
      "Epoch 39/50\n",
      "59/59 [==============================] - 1s 15ms/step - loss: 0.4382 - accuracy: 0.8463 - val_loss: 1.6310 - val_accuracy: 0.6936\n",
      "Epoch 40/50\n",
      "59/59 [==============================] - 1s 14ms/step - loss: 0.5208 - accuracy: 0.8013 - val_loss: 1.7282 - val_accuracy: 0.6458\n",
      "Epoch 41/50\n",
      "59/59 [==============================] - 1s 14ms/step - loss: 0.4944 - accuracy: 0.8188 - val_loss: 1.5455 - val_accuracy: 0.7152\n",
      "Epoch 42/50\n",
      "59/59 [==============================] - 1s 17ms/step - loss: 0.3974 - accuracy: 0.8565 - val_loss: 1.5691 - val_accuracy: 0.7313\n",
      "Epoch 43/50\n",
      "59/59 [==============================] - 1s 15ms/step - loss: 0.4013 - accuracy: 0.8530 - val_loss: 1.5170 - val_accuracy: 0.7284\n",
      "Epoch 44/50\n",
      "59/59 [==============================] - 1s 19ms/step - loss: 0.6150 - accuracy: 0.7804 - val_loss: 1.7657 - val_accuracy: 0.6511\n",
      "Epoch 45/50\n",
      "59/59 [==============================] - 1s 16ms/step - loss: 0.4681 - accuracy: 0.8212 - val_loss: 1.5520 - val_accuracy: 0.7427\n",
      "Epoch 46/50\n",
      "59/59 [==============================] - 1s 19ms/step - loss: 0.3851 - accuracy: 0.8577 - val_loss: 1.5453 - val_accuracy: 0.7331\n",
      "Epoch 47/50\n",
      "59/59 [==============================] - 1s 17ms/step - loss: 0.3750 - accuracy: 0.8635 - val_loss: 1.5807 - val_accuracy: 0.7343\n",
      "Epoch 48/50\n",
      "59/59 [==============================] - 1s 22ms/step - loss: 0.3885 - accuracy: 0.8560 - val_loss: 1.5615 - val_accuracy: 0.7357\n",
      "Epoch 49/50\n",
      "59/59 [==============================] - 1s 24ms/step - loss: 0.3787 - accuracy: 0.8673 - val_loss: 1.6256 - val_accuracy: 0.7417\n",
      "Epoch 50/50\n",
      "59/59 [==============================] - 2s 27ms/step - loss: 0.3732 - accuracy: 0.8662 - val_loss: 1.6146 - val_accuracy: 0.7380\n"
     ]
    },
    {
     "data": {
      "text/plain": [
       "<keras.callbacks.History at 0x15d6c56ad10>"
      ]
     },
     "execution_count": 109,
     "metadata": {},
     "output_type": "execute_result"
    }
   ],
   "source": [
    "model.compile(loss='sparse_categorical_crossentropy', optimizer='adam', metrics=['accuracy'])\n",
    "\n",
    "# fit the keras model on the dataset\n",
    "model.fit(x_train, y_train, epochs=50, batch_size=500, validation_data=(x_val,y_val))\n",
    "\n"
   ]
  },
  {
   "cell_type": "code",
   "execution_count": 110,
   "metadata": {},
   "outputs": [
    {
     "name": "stdout",
     "output_type": "stream",
     "text": [
      "461/461 [==============================] - 1s 2ms/step\n"
     ]
    }
   ],
   "source": [
    "prediction = model.predict(x_test)"
   ]
  },
  {
   "cell_type": "code",
   "execution_count": 111,
   "metadata": {},
   "outputs": [
    {
     "name": "stdout",
     "output_type": "stream",
     "text": [
      "461/461 - 1s - loss: 2.5743 - accuracy: 0.7222 - 981ms/epoch - 2ms/step\n",
      "Accuracy   :  0.72 \n"
     ]
    }
   ],
   "source": [
    "loss, accuracy =  model.evaluate(x_test, y_test, verbose=2)\n",
    "\n",
    "print(\"Accuracy   : {:5.2f} \".format(accuracy))"
   ]
  }
 ],
 "metadata": {
  "kernelspec": {
   "display_name": "Python 3.10.0 64-bit",
   "language": "python",
   "name": "python3"
  },
  "language_info": {
   "codemirror_mode": {
    "name": "ipython",
    "version": 3
   },
   "file_extension": ".py",
   "mimetype": "text/x-python",
   "name": "python",
   "nbconvert_exporter": "python",
   "pygments_lexer": "ipython3",
   "version": "3.10.0"
  },
  "orig_nbformat": 4,
  "vscode": {
   "interpreter": {
    "hash": "26de051ba29f2982a8de78e945f0abaf191376122a1563185a90213a26c5da77"
   }
  }
 },
 "nbformat": 4,
 "nbformat_minor": 2
}
