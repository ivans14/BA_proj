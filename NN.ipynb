{
 "cells": [
  {
   "cell_type": "code",
   "execution_count": 3,
   "metadata": {},
   "outputs": [],
   "source": [
    "import numpy as np\n",
    "import pandas as pd\n",
    "from keras.models import Sequential\n",
    "from keras.layers import Dense, Dropout\n",
    "from sklearn.metrics import confusion_matrix, recall_score, accuracy_score, precision_score\n",
    "from keras.utils import to_categorical\n",
    "from sklearn.preprocessing import OrdinalEncoder\n",
    "\n",
    "%matplotlib inline\n",
    "import matplotlib.pyplot as plt\n",
    "from keras.utils.np_utils import to_categorical"
   ]
  },
  {
   "cell_type": "markdown",
   "metadata": {},
   "source": [
    "This part of the exploratory comoponent will try to answer the question: can the end station of a trip be predicted starting from a single known station?\n",
    "It is our belief that this is a hugely interesting topic to inverstigate, which will be done through two of the techniques learnt during the course: neural networks and a Tree Forest Classifier. "
   ]
  },
  {
   "cell_type": "markdown",
   "metadata": {},
   "source": [
    "First of all, all the relevant data needs to be loaded, which includes the pickups information as well as the wheather data and national holidays dates, which will be added as a column with a binary value (1 indicating that the day is indeed a national holiday and 0 otherwise).\n",
    "Once this is achieved, both dataframes will be merged by date. Since the nature of this problem calls for keeping each pickup as a separate instance in the dataframe, the merge will happen on the pickups data side.\n"
   ]
  },
  {
   "cell_type": "code",
   "execution_count": 4,
   "metadata": {},
   "outputs": [],
   "source": [
    "data_exp=pd.read_csv('BikeSharing_Bluebikes2022.csv')\n",
    "nat_hol = ['2022-01-01','2022-01-17','2022-02-21','2022-04-17','2022-04-18','2022-05-08','2022-05-30','2022-06-19','2022-06-20','2022-07-04']\n",
    "\n",
    "data_exp['is_Holiday'] = [ 1 if data_exp.iloc[i]['starttime'][0:10] in nat_hol else 0 for i in range(len(data_exp))]\n"
   ]
  },
  {
   "cell_type": "markdown",
   "metadata": {},
   "source": [
    "As we have seen before, there is data in the wheather dataframe which is highly correlated with each other, like 'temp' and 'tempmax' for example, while others are not relevant at all to our study. All of these features will be dropped."
   ]
  },
  {
   "cell_type": "code",
   "execution_count": 5,
   "metadata": {},
   "outputs": [],
   "source": [
    "data_w = pd.read_csv(\"Boston 2022-01-01 to 2022-08-31.csv\")\n",
    "drop = ['dew', 'sunrise','sunset','moonphase','conditions', 'description','stations','sealevelpressure',\n",
    "'windgust','severerisk', 'uvindex', 'solarenergy', 'solarradiation','preciptype','winddir','name'\n",
    ",'tempmax', 'tempmin','feelslikemax', 'feelslikemin','precipprob', 'precipcover']\n",
    "data_w = data_w.drop(columns = drop)\n",
    "data_w['datetime'] = pd.to_datetime(data_w['datetime'])"
   ]
  },
  {
   "cell_type": "code",
   "execution_count": 6,
   "metadata": {},
   "outputs": [],
   "source": [
    "from datetime import datetime as dt\n",
    "\n",
    "data_exp['starttime'] = pd.to_datetime(data_exp['starttime'], format='%Y-%m-%d %H:%M:%S')\n",
    "data_exp['datetime'] = pd.to_datetime(data_exp['starttime']).dt.date\n",
    "data_exp['datetime'] = pd.to_datetime(data_exp['datetime'])\n",
    "\n",
    "data_merge = data_exp.merge(data_w, how='left', on='datetime')"
   ]
  },
  {
   "cell_type": "code",
   "execution_count": 7,
   "metadata": {},
   "outputs": [],
   "source": [
    "data_merge.columns\n",
    "data_merge = data_merge.drop(columns=(['Unnamed: 0']))"
   ]
  },
  {
   "cell_type": "code",
   "execution_count": 8,
   "metadata": {},
   "outputs": [
    {
     "data": {
      "text/plain": [
       "Index(['tripduration', 'starttime', 'stoptime', 'start station id',\n",
       "       'start station name', 'start station latitude',\n",
       "       'start station longitude', 'end station id', 'end station name',\n",
       "       'end station latitude', 'end station longitude', 'bikeid', 'usertype',\n",
       "       'postal code', 'is_Holiday', 'datetime', 'temp', 'feelslike',\n",
       "       'humidity', 'precip', 'snow', 'snowdepth', 'windspeed', 'cloudcover',\n",
       "       'visibility', 'icon'],\n",
       "      dtype='object')"
      ]
     },
     "execution_count": 8,
     "metadata": {},
     "output_type": "execute_result"
    }
   ],
   "source": [
    "data_merge.columns\n"
   ]
  },
  {
   "cell_type": "code",
   "execution_count": 9,
   "metadata": {},
   "outputs": [
    {
     "data": {
      "text/plain": [
       "0          178\n",
       "1          189\n",
       "2           94\n",
       "3           94\n",
       "4           19\n",
       "          ... \n",
       "2305730     67\n",
       "2305731    380\n",
       "2305732    150\n",
       "2305733    105\n",
       "2305734    560\n",
       "Name: start station id, Length: 2305735, dtype: int64"
      ]
     },
     "execution_count": 9,
     "metadata": {},
     "output_type": "execute_result"
    }
   ],
   "source": [
    "data_merge['start station id']"
   ]
  },
  {
   "cell_type": "markdown",
   "metadata": {},
   "source": [
    "In order to conduct a coherent study, we need to choose the start station with sufficient data, which means counting the instances of each start station and creating a new dataframe including only those from the most repeated one."
   ]
  },
  {
   "cell_type": "code",
   "execution_count": 10,
   "metadata": {},
   "outputs": [
    {
     "name": "stdout",
     "output_type": "stream",
     "text": [
      "67\n"
     ]
    },
    {
     "data": {
      "text/plain": [
       "49127"
      ]
     },
     "execution_count": 10,
     "metadata": {},
     "output_type": "execute_result"
    }
   ],
   "source": [
    "list = []\n",
    "for i in data_merge['start station id'].unique():\n",
    "    count = data_merge[data_merge['start station id']==i].count()[0]\n",
    "    list.append(count)\n",
    "\n",
    "maxim = data_merge['start station id'].unique()[list.index(max(list))]\n",
    "print(maxim)\n",
    "data_merge[data_merge['start station id']==maxim].count()[0]\n",
    "\n"
   ]
  },
  {
   "cell_type": "markdown",
   "metadata": {},
   "source": [
    "In this case, station 67 happens to be the most frequent, with a total count of almost fifty thousand data points."
   ]
  },
  {
   "cell_type": "code",
   "execution_count": 11,
   "metadata": {},
   "outputs": [
    {
     "data": {
      "text/plain": [
       "0    68\n",
       "Name: start station id, dtype: int64"
      ]
     },
     "execution_count": 11,
     "metadata": {},
     "output_type": "execute_result"
    }
   ],
   "source": [
    "data_merge[data_merge['start station id']!=67]['start station id'].mode()"
   ]
  },
  {
   "cell_type": "markdown",
   "metadata": {},
   "source": [
    "Since this data will be sliced further in this notebook, we are also going to include the second most frequent start station, which is number 68"
   ]
  },
  {
   "cell_type": "code",
   "execution_count": 12,
   "metadata": {},
   "outputs": [
    {
     "data": {
      "text/plain": [
       "40999"
      ]
     },
     "execution_count": 12,
     "metadata": {},
     "output_type": "execute_result"
    }
   ],
   "source": [
    "data_merge[data_merge['start station id']==68].count()[0]"
   ]
  },
  {
   "cell_type": "code",
   "execution_count": 13,
   "metadata": {},
   "outputs": [],
   "source": [
    "data_merge = data_merge[data_merge['start station id'].isin([67,68])]"
   ]
  },
  {
   "cell_type": "code",
   "execution_count": 14,
   "metadata": {},
   "outputs": [
    {
     "data": {
      "text/plain": [
       "33         68\n",
       "35         68\n",
       "56         68\n",
       "62         67\n",
       "67         68\n",
       "           ..\n",
       "2305598    67\n",
       "2305608    67\n",
       "2305623    67\n",
       "2305661    67\n",
       "2305730    67\n",
       "Name: start station id, Length: 90126, dtype: int64"
      ]
     },
     "execution_count": 14,
     "metadata": {},
     "output_type": "execute_result"
    }
   ],
   "source": [
    "data_merge['start station id']"
   ]
  },
  {
   "cell_type": "markdown",
   "metadata": {},
   "source": [
    "It is also important to investigate how balanced our data is, since having a couple of end stations with a huge number of entries can lead to unclear prediction models."
   ]
  },
  {
   "cell_type": "code",
   "execution_count": 15,
   "metadata": {},
   "outputs": [],
   "source": [
    "dic_stations = {}\n",
    "for i in data_merge['end station id']:\n",
    "    if str(i) in dic_stations.keys():\n",
    "        dic_stations[str(i)] +=1\n",
    "    else:\n",
    "        dic_stations[str(i)] = 1"
   ]
  },
  {
   "cell_type": "code",
   "execution_count": 16,
   "metadata": {},
   "outputs": [
    {
     "data": {
      "image/png": "[encoded data removed]",
      "text/plain": [
       "<Figure size 640x480 with 1 Axes>"
      ]
     },
     "metadata": {},
     "output_type": "display_data"
    }
   ],
   "source": [
    "plot = plt.bar(*zip(*dic_stations.items()))\n",
    "plt.show()"
   ]
  },
  {
   "cell_type": "markdown",
   "metadata": {},
   "source": [
    "As we can see in the plot above, most of the stations have very few pickups to be relevant in this study, since it would result in an inaccurate model due to underfitting. Thus, this test case will focus on those stations that have over 2300 different data points. "
   ]
  },
  {
   "cell_type": "code",
   "execution_count": 17,
   "metadata": {},
   "outputs": [
    {
     "name": "stdout",
     "output_type": "stream",
     "text": [
      "359 366\n"
     ]
    }
   ],
   "source": [
    "excluded_stations = []\n",
    "for i in data_merge['end station id'].unique():\n",
    "    count = data_merge[data_merge['end station id']==i].count()[0]\n",
    "    if 2300 < count :\n",
    "        continue\n",
    "    else:\n",
    "        excluded_stations.append(i)\n",
    "\n",
    "print(len(excluded_stations),len(data_merge['end station id'].unique()))"
   ]
  },
  {
   "cell_type": "markdown",
   "metadata": {},
   "source": [
    "As a result of this exploration, all but 7 stations and their respective data will be eliminated from the dataset"
   ]
  },
  {
   "cell_type": "code",
   "execution_count": 18,
   "metadata": {},
   "outputs": [],
   "source": [
    "data_merge = data_merge[~data_merge['end station id'].isin(excluded_stations)]"
   ]
  },
  {
   "cell_type": "code",
   "execution_count": 19,
   "metadata": {},
   "outputs": [
    {
     "data": {
      "text/plain": [
       "7"
      ]
     },
     "execution_count": 19,
     "metadata": {},
     "output_type": "execute_result"
    }
   ],
   "source": [
    "len(data_merge['end station id'].unique())"
   ]
  },
  {
   "cell_type": "code",
   "execution_count": 59,
   "metadata": {},
   "outputs": [
    {
     "data": {
      "text/plain": [
       "array([107,  67, 178, 471,  68, 179,  74], dtype=int64)"
      ]
     },
     "execution_count": 59,
     "metadata": {},
     "output_type": "execute_result"
    }
   ],
   "source": [
    "data_merge['end station id'].unique()"
   ]
  },
  {
   "cell_type": "markdown",
   "metadata": {},
   "source": [
    "Next, we also need to get rid of the unnecessary features coming from the pickups file, including the start station id since they are all from the same station now."
   ]
  },
  {
   "cell_type": "code",
   "execution_count": 20,
   "metadata": {},
   "outputs": [
    {
     "data": {
      "text/plain": [
       "Index(['tripduration', 'starttime', 'stoptime', 'start station id',\n",
       "       'start station name', 'start station latitude',\n",
       "       'start station longitude', 'end station id', 'end station name',\n",
       "       'end station latitude', 'end station longitude', 'bikeid', 'usertype',\n",
       "       'postal code', 'is_Holiday', 'datetime', 'temp', 'feelslike',\n",
       "       'humidity', 'precip', 'snow', 'snowdepth', 'windspeed', 'cloudcover',\n",
       "       'visibility', 'icon'],\n",
       "      dtype='object')"
      ]
     },
     "execution_count": 20,
     "metadata": {},
     "output_type": "execute_result"
    }
   ],
   "source": [
    "data_merge.columns"
   ]
  },
  {
   "cell_type": "code",
   "execution_count": 21,
   "metadata": {},
   "outputs": [],
   "source": [
    "data_nn = data_merge.drop(columns=[\n",
    "       'start station name', 'start station latitude',\n",
    "       'start station longitude','end station name',\n",
    "       'end station latitude', 'end station longitude','bikeid','postal code', 'stoptime'])"
   ]
  },
  {
   "cell_type": "code",
   "execution_count": 22,
   "metadata": {},
   "outputs": [
    {
     "data": {
      "text/html": [
       "<div>\n",
       "<style scoped>\n",
       "    .dataframe tbody tr th:only-of-type {\n",
       "        vertical-align: middle;\n",
       "    }\n",
       "\n",
       "    .dataframe tbody tr th {\n",
       "        vertical-align: top;\n",
       "    }\n",
       "\n",
       "    .dataframe thead th {\n",
       "        text-align: right;\n",
       "    }\n",
       "</style>\n",
       "<table border=\"1\" class=\"dataframe\">\n",
       "  <thead>\n",
       "    <tr style=\"text-align: right;\">\n",
       "      <th></th>\n",
       "      <th>tripduration</th>\n",
       "      <th>starttime</th>\n",
       "      <th>start station id</th>\n",
       "      <th>end station id</th>\n",
       "      <th>usertype</th>\n",
       "      <th>is_Holiday</th>\n",
       "      <th>datetime</th>\n",
       "      <th>temp</th>\n",
       "      <th>feelslike</th>\n",
       "      <th>humidity</th>\n",
       "      <th>precip</th>\n",
       "      <th>snow</th>\n",
       "      <th>snowdepth</th>\n",
       "      <th>windspeed</th>\n",
       "      <th>cloudcover</th>\n",
       "      <th>visibility</th>\n",
       "      <th>icon</th>\n",
       "    </tr>\n",
       "  </thead>\n",
       "  <tbody>\n",
       "    <tr>\n",
       "      <th>56</th>\n",
       "      <td>509</td>\n",
       "      <td>2022-01-01 00:27:40.984</td>\n",
       "      <td>68</td>\n",
       "      <td>107</td>\n",
       "      <td>Subscriber</td>\n",
       "      <td>1</td>\n",
       "      <td>2022-01-01</td>\n",
       "      <td>8.3</td>\n",
       "      <td>7.6</td>\n",
       "      <td>98.2</td>\n",
       "      <td>1.225</td>\n",
       "      <td>0.0</td>\n",
       "      <td>0.0</td>\n",
       "      <td>11.0</td>\n",
       "      <td>100.0</td>\n",
       "      <td>3.0</td>\n",
       "      <td>rain</td>\n",
       "    </tr>\n",
       "    <tr>\n",
       "      <th>62</th>\n",
       "      <td>2209</td>\n",
       "      <td>2022-01-01 00:29:15.682</td>\n",
       "      <td>67</td>\n",
       "      <td>67</td>\n",
       "      <td>Subscriber</td>\n",
       "      <td>1</td>\n",
       "      <td>2022-01-01</td>\n",
       "      <td>8.3</td>\n",
       "      <td>7.6</td>\n",
       "      <td>98.2</td>\n",
       "      <td>1.225</td>\n",
       "      <td>0.0</td>\n",
       "      <td>0.0</td>\n",
       "      <td>11.0</td>\n",
       "      <td>100.0</td>\n",
       "      <td>3.0</td>\n",
       "      <td>rain</td>\n",
       "    </tr>\n",
       "    <tr>\n",
       "      <th>150</th>\n",
       "      <td>320</td>\n",
       "      <td>2022-01-01 01:18:18.033</td>\n",
       "      <td>68</td>\n",
       "      <td>178</td>\n",
       "      <td>Subscriber</td>\n",
       "      <td>1</td>\n",
       "      <td>2022-01-01</td>\n",
       "      <td>8.3</td>\n",
       "      <td>7.6</td>\n",
       "      <td>98.2</td>\n",
       "      <td>1.225</td>\n",
       "      <td>0.0</td>\n",
       "      <td>0.0</td>\n",
       "      <td>11.0</td>\n",
       "      <td>100.0</td>\n",
       "      <td>3.0</td>\n",
       "      <td>rain</td>\n",
       "    </tr>\n",
       "    <tr>\n",
       "      <th>333</th>\n",
       "      <td>387</td>\n",
       "      <td>2022-01-01 03:31:04.764</td>\n",
       "      <td>68</td>\n",
       "      <td>178</td>\n",
       "      <td>Subscriber</td>\n",
       "      <td>1</td>\n",
       "      <td>2022-01-01</td>\n",
       "      <td>8.3</td>\n",
       "      <td>7.6</td>\n",
       "      <td>98.2</td>\n",
       "      <td>1.225</td>\n",
       "      <td>0.0</td>\n",
       "      <td>0.0</td>\n",
       "      <td>11.0</td>\n",
       "      <td>100.0</td>\n",
       "      <td>3.0</td>\n",
       "      <td>rain</td>\n",
       "    </tr>\n",
       "    <tr>\n",
       "      <th>377</th>\n",
       "      <td>204</td>\n",
       "      <td>2022-01-01 03:56:38.414</td>\n",
       "      <td>67</td>\n",
       "      <td>471</td>\n",
       "      <td>Subscriber</td>\n",
       "      <td>1</td>\n",
       "      <td>2022-01-01</td>\n",
       "      <td>8.3</td>\n",
       "      <td>7.6</td>\n",
       "      <td>98.2</td>\n",
       "      <td>1.225</td>\n",
       "      <td>0.0</td>\n",
       "      <td>0.0</td>\n",
       "      <td>11.0</td>\n",
       "      <td>100.0</td>\n",
       "      <td>3.0</td>\n",
       "      <td>rain</td>\n",
       "    </tr>\n",
       "    <tr>\n",
       "      <th>...</th>\n",
       "      <td>...</td>\n",
       "      <td>...</td>\n",
       "      <td>...</td>\n",
       "      <td>...</td>\n",
       "      <td>...</td>\n",
       "      <td>...</td>\n",
       "      <td>...</td>\n",
       "      <td>...</td>\n",
       "      <td>...</td>\n",
       "      <td>...</td>\n",
       "      <td>...</td>\n",
       "      <td>...</td>\n",
       "      <td>...</td>\n",
       "      <td>...</td>\n",
       "      <td>...</td>\n",
       "      <td>...</td>\n",
       "      <td>...</td>\n",
       "    </tr>\n",
       "    <tr>\n",
       "      <th>2305014</th>\n",
       "      <td>228</td>\n",
       "      <td>2022-08-31 23:29:02.443</td>\n",
       "      <td>67</td>\n",
       "      <td>471</td>\n",
       "      <td>Subscriber</td>\n",
       "      <td>0</td>\n",
       "      <td>2022-08-31</td>\n",
       "      <td>25.0</td>\n",
       "      <td>25.0</td>\n",
       "      <td>63.1</td>\n",
       "      <td>8.351</td>\n",
       "      <td>0.0</td>\n",
       "      <td>0.0</td>\n",
       "      <td>31.6</td>\n",
       "      <td>49.3</td>\n",
       "      <td>16.0</td>\n",
       "      <td>rain</td>\n",
       "    </tr>\n",
       "    <tr>\n",
       "      <th>2305157</th>\n",
       "      <td>529</td>\n",
       "      <td>2022-08-31 23:35:22.510</td>\n",
       "      <td>68</td>\n",
       "      <td>471</td>\n",
       "      <td>Subscriber</td>\n",
       "      <td>0</td>\n",
       "      <td>2022-08-31</td>\n",
       "      <td>25.0</td>\n",
       "      <td>25.0</td>\n",
       "      <td>63.1</td>\n",
       "      <td>8.351</td>\n",
       "      <td>0.0</td>\n",
       "      <td>0.0</td>\n",
       "      <td>31.6</td>\n",
       "      <td>49.3</td>\n",
       "      <td>16.0</td>\n",
       "      <td>rain</td>\n",
       "    </tr>\n",
       "    <tr>\n",
       "      <th>2305276</th>\n",
       "      <td>494</td>\n",
       "      <td>2022-08-31 23:40:14.734</td>\n",
       "      <td>68</td>\n",
       "      <td>179</td>\n",
       "      <td>Subscriber</td>\n",
       "      <td>0</td>\n",
       "      <td>2022-08-31</td>\n",
       "      <td>25.0</td>\n",
       "      <td>25.0</td>\n",
       "      <td>63.1</td>\n",
       "      <td>8.351</td>\n",
       "      <td>0.0</td>\n",
       "      <td>0.0</td>\n",
       "      <td>31.6</td>\n",
       "      <td>49.3</td>\n",
       "      <td>16.0</td>\n",
       "      <td>rain</td>\n",
       "    </tr>\n",
       "    <tr>\n",
       "      <th>2305566</th>\n",
       "      <td>356</td>\n",
       "      <td>2022-08-31 23:52:55.882</td>\n",
       "      <td>67</td>\n",
       "      <td>179</td>\n",
       "      <td>Subscriber</td>\n",
       "      <td>0</td>\n",
       "      <td>2022-08-31</td>\n",
       "      <td>25.0</td>\n",
       "      <td>25.0</td>\n",
       "      <td>63.1</td>\n",
       "      <td>8.351</td>\n",
       "      <td>0.0</td>\n",
       "      <td>0.0</td>\n",
       "      <td>31.6</td>\n",
       "      <td>49.3</td>\n",
       "      <td>16.0</td>\n",
       "      <td>rain</td>\n",
       "    </tr>\n",
       "    <tr>\n",
       "      <th>2305594</th>\n",
       "      <td>589</td>\n",
       "      <td>2022-08-31 23:54:12.254</td>\n",
       "      <td>67</td>\n",
       "      <td>68</td>\n",
       "      <td>Subscriber</td>\n",
       "      <td>0</td>\n",
       "      <td>2022-08-31</td>\n",
       "      <td>25.0</td>\n",
       "      <td>25.0</td>\n",
       "      <td>63.1</td>\n",
       "      <td>8.351</td>\n",
       "      <td>0.0</td>\n",
       "      <td>0.0</td>\n",
       "      <td>31.6</td>\n",
       "      <td>49.3</td>\n",
       "      <td>16.0</td>\n",
       "      <td>rain</td>\n",
       "    </tr>\n",
       "  </tbody>\n",
       "</table>\n",
       "<p>22534 rows × 17 columns</p>\n",
       "</div>"
      ],
      "text/plain": [
       "         tripduration               starttime  start station id  \\\n",
       "56                509 2022-01-01 00:27:40.984                68   \n",
       "62               2209 2022-01-01 00:29:15.682                67   \n",
       "150               320 2022-01-01 01:18:18.033                68   \n",
       "333               387 2022-01-01 03:31:04.764                68   \n",
       "377               204 2022-01-01 03:56:38.414                67   \n",
       "...               ...                     ...               ...   \n",
       "2305014           228 2022-08-31 23:29:02.443                67   \n",
       "2305157           529 2022-08-31 23:35:22.510                68   \n",
       "2305276           494 2022-08-31 23:40:14.734                68   \n",
       "2305566           356 2022-08-31 23:52:55.882                67   \n",
       "2305594           589 2022-08-31 23:54:12.254                67   \n",
       "\n",
       "         end station id    usertype  is_Holiday   datetime  temp  feelslike  \\\n",
       "56                  107  Subscriber           1 2022-01-01   8.3        7.6   \n",
       "62                   67  Subscriber           1 2022-01-01   8.3        7.6   \n",
       "150                 178  Subscriber           1 2022-01-01   8.3        7.6   \n",
       "333                 178  Subscriber           1 2022-01-01   8.3        7.6   \n",
       "377                 471  Subscriber           1 2022-01-01   8.3        7.6   \n",
       "...                 ...         ...         ...        ...   ...        ...   \n",
       "2305014             471  Subscriber           0 2022-08-31  25.0       25.0   \n",
       "2305157             471  Subscriber           0 2022-08-31  25.0       25.0   \n",
       "2305276             179  Subscriber           0 2022-08-31  25.0       25.0   \n",
       "2305566             179  Subscriber           0 2022-08-31  25.0       25.0   \n",
       "2305594              68  Subscriber           0 2022-08-31  25.0       25.0   \n",
       "\n",
       "         humidity  precip  snow  snowdepth  windspeed  cloudcover  visibility  \\\n",
       "56           98.2   1.225   0.0        0.0       11.0       100.0         3.0   \n",
       "62           98.2   1.225   0.0        0.0       11.0       100.0         3.0   \n",
       "150          98.2   1.225   0.0        0.0       11.0       100.0         3.0   \n",
       "333          98.2   1.225   0.0        0.0       11.0       100.0         3.0   \n",
       "377          98.2   1.225   0.0        0.0       11.0       100.0         3.0   \n",
       "...           ...     ...   ...        ...        ...         ...         ...   \n",
       "2305014      63.1   8.351   0.0        0.0       31.6        49.3        16.0   \n",
       "2305157      63.1   8.351   0.0        0.0       31.6        49.3        16.0   \n",
       "2305276      63.1   8.351   0.0        0.0       31.6        49.3        16.0   \n",
       "2305566      63.1   8.351   0.0        0.0       31.6        49.3        16.0   \n",
       "2305594      63.1   8.351   0.0        0.0       31.6        49.3        16.0   \n",
       "\n",
       "         icon  \n",
       "56       rain  \n",
       "62       rain  \n",
       "150      rain  \n",
       "333      rain  \n",
       "377      rain  \n",
       "...       ...  \n",
       "2305014  rain  \n",
       "2305157  rain  \n",
       "2305276  rain  \n",
       "2305566  rain  \n",
       "2305594  rain  \n",
       "\n",
       "[22534 rows x 17 columns]"
      ]
     },
     "execution_count": 22,
     "metadata": {},
     "output_type": "execute_result"
    }
   ],
   "source": [
    "data_nn"
   ]
  },
  {
   "cell_type": "markdown",
   "metadata": {},
   "source": [
    "Our data is looking like this at the moment. There are obvious steps to be taken before training of any kind can begin to occur: \n",
    "First of all, the time in which those pickups happen can not be a simple date since it can not be picked up by models. Therefore, we have decided to transform the time of the pickup into a new variable expressing the time of day in which the pickup happened. The division will happen every six hours into morning, afternoon, evening and night. These are really valuable information and more importantly, usable by getting their dummies.\n",
    "Once this is done, both columns indicating the date and time of the pickup can be dropped from the dataframe."
   ]
  },
  {
   "cell_type": "code",
   "execution_count": 23,
   "metadata": {},
   "outputs": [
    {
     "name": "stderr",
     "output_type": "stream",
     "text": [
      "C:\\Users\\mirun\\AppData\\Local\\Temp\\ipykernel_3008\\1358740847.py:10: SettingWithCopyWarning: \n",
      "A value is trying to be set on a copy of a slice from a DataFrame\n",
      "\n",
      "See the caveats in the documentation: https://pandas.pydata.org/pandas-docs/stable/user_guide/indexing.html#returning-a-view-versus-a-copy\n",
      "  data_nn['time_of_day'].iloc[i] = 'night'\n"
     ]
    }
   ],
   "source": [
    "data_nn['time_of_day'] = 0\n",
    "for i in range(len(data_nn)):\n",
    "    if (data_nn['starttime'].iloc[i].hour >= 7) & (data_nn['starttime'].iloc[i].hour < 12):\n",
    "        data_nn['time_of_day'].iloc[i] = 'morning'\n",
    "    elif (data_nn['starttime'].iloc[i].hour >= 12) & (data_nn['starttime'].iloc[i].hour < 17):\n",
    "        data_nn['time_of_day'].iloc[i] = 'afternoon'\n",
    "    elif (data_nn['starttime'].iloc[i].hour >= 17) & (data_nn['starttime'].iloc[i].hour < 24):\n",
    "        data_nn['time_of_day'].iloc[i] = 'evening'\n",
    "    elif (data_nn['starttime'].iloc[i].hour >= 24) or (data_nn['starttime'].iloc[i].hour < 7):\n",
    "        data_nn['time_of_day'].iloc[i] = 'night'\n"
   ]
  },
  {
   "cell_type": "markdown",
   "metadata": {},
   "source": [
    "We have also added another variable indicating weather the pickup was produced during the weekend or otherwise, hoping that it will add valuable information to the models and result in a higher accuracy metrics.\n",
    "The cutting point for weekend has been set at Friday evening, which we belief is more precise than setting it to saturday midnight."
   ]
  },
  {
   "cell_type": "code",
   "execution_count": 24,
   "metadata": {},
   "outputs": [
    {
     "name": "stderr",
     "output_type": "stream",
     "text": [
      "C:\\Users\\mirun\\AppData\\Local\\Temp\\ipykernel_3008\\1496866577.py:5: SettingWithCopyWarning: \n",
      "A value is trying to be set on a copy of a slice from a DataFrame\n",
      "\n",
      "See the caveats in the documentation: https://pandas.pydata.org/pandas-docs/stable/user_guide/indexing.html#returning-a-view-versus-a-copy\n",
      "  data_nn['is_weekend'].iloc[i] = 1 if (\n",
      "C:\\Users\\mirun\\AppData\\Local\\Temp\\ipykernel_3008\\1496866577.py:8: SettingWithCopyWarning: \n",
      "A value is trying to be set on a copy of a slice from a DataFrame\n",
      "\n",
      "See the caveats in the documentation: https://pandas.pydata.org/pandas-docs/stable/user_guide/indexing.html#returning-a-view-versus-a-copy\n",
      "  data_nn['is_weekend'].iloc[i] = 1\n"
     ]
    }
   ],
   "source": [
    "data_nn['is_weekend'] = 1  \n",
    "weekday = 5 ## 2022 starts on a saturday\n",
    "day = data_nn['starttime'].iloc[0].day\n",
    "for i in range(1,len(data_nn)):\n",
    "    data_nn['is_weekend'].iloc[i] = 1 if (\n",
    "    data_nn['starttime'].iloc[i].weekday()) > 4 else 0\n",
    "    if data_nn['starttime'].iloc[i].weekday() == 4 and data_nn['time_of_day'].iloc[i] == 'evening':\n",
    "        data_nn['is_weekend'].iloc[i] = 1"
   ]
  },
  {
   "cell_type": "markdown",
   "metadata": {},
   "source": [
    "Having extracted all the valuable data from the date columns in the form of weekend values and day of the week, we can now eliminate these columns that are unintelligible for our models."
   ]
  },
  {
   "cell_type": "code",
   "execution_count": 25,
   "metadata": {},
   "outputs": [],
   "source": [
    "data_nn = data_nn.drop(columns=['starttime','datetime'])"
   ]
  },
  {
   "cell_type": "markdown",
   "metadata": {},
   "source": [
    "Second step into getting the data ready for training is using dummy variables to codify those that are not numerical values. The time of day variable has already been discussed, but the icon variable and usertype, which define the general wheather for that day and the type of user (subscriber or customer) respectively, also need to be translated into dummy variables. Moreover, tbe column indicating the start station also needs to be converted."
   ]
  },
  {
   "cell_type": "code",
   "execution_count": 26,
   "metadata": {},
   "outputs": [],
   "source": [
    "data_nn_dummies = pd.get_dummies(data_nn, columns=['time_of_day', 'icon', 'usertype','start station id'])"
   ]
  },
  {
   "cell_type": "code",
   "execution_count": 27,
   "metadata": {},
   "outputs": [],
   "source": [
    "data_nn_dummies_std = data_nn_dummies.copy()"
   ]
  },
  {
   "cell_type": "code",
   "execution_count": 28,
   "metadata": {},
   "outputs": [
    {
     "data": {
      "text/plain": [
       "Index(['tripduration', 'end station id', 'is_Holiday', 'temp', 'feelslike',\n",
       "       'humidity', 'precip', 'snow', 'snowdepth', 'windspeed', 'cloudcover',\n",
       "       'visibility', 'is_weekend', 'time_of_day_afternoon',\n",
       "       'time_of_day_evening', 'time_of_day_morning', 'time_of_day_night',\n",
       "       'icon_clear-day', 'icon_cloudy', 'icon_partly-cloudy-day', 'icon_rain',\n",
       "       'icon_snow', 'usertype_Customer', 'usertype_Subscriber',\n",
       "       'start station id_67', 'start station id_68'],\n",
       "      dtype='object')"
      ]
     },
     "execution_count": 28,
     "metadata": {},
     "output_type": "execute_result"
    }
   ],
   "source": [
    "data_nn_dummies_std.columns"
   ]
  },
  {
   "cell_type": "markdown",
   "metadata": {},
   "source": [
    "Since most of our numerical features are using different scales, we need to standardize these columns. \n",
    "It is also important to remark that our dummy variables have not been standardized, since this would defeat the purpose of having binary values for each label."
   ]
  },
  {
   "cell_type": "code",
   "execution_count": 29,
   "metadata": {},
   "outputs": [],
   "source": [
    "col_std = [ 'temp', 'feelslike','tripduration',\n",
    "       'humidity', 'precip', 'snow', 'snowdepth',\n",
    "       'windspeed', 'cloudcover', 'visibility']\n",
    "\n",
    "data_nn_dummies_std[col_std]= (data_nn_dummies_std[col_std] - data_nn_dummies_std[col_std].mean()) / data_nn_dummies_std[col_std].std()"
   ]
  },
  {
   "cell_type": "markdown",
   "metadata": {},
   "source": [
    "This classification problem is quite different form the ones seen in class before, since it is a multiclass classification problem. As such, even though our target variable (end station id) is an integer, it needs to be translated into a categorical variable. In other words, each station id will be converted into a new value, also an integer, so that the network can interpret them."
   ]
  },
  {
   "cell_type": "code",
   "execution_count": 30,
   "metadata": {},
   "outputs": [],
   "source": [
    "uniques = (data_nn_dummies_std['end station id'].unique()).tolist()\n",
    "uniques.sort()\n",
    "data_nn_dummies_std['categorical_target'] = [uniques.index(data_nn_dummies_std['end station id'].iloc[i]) for i in range(len(data_nn_dummies_std))]\n"
   ]
  },
  {
   "cell_type": "code",
   "execution_count": 31,
   "metadata": {},
   "outputs": [],
   "source": [
    "data_nn_dummies_std = data_nn_dummies_std.drop(columns=['end station id'])"
   ]
  },
  {
   "cell_type": "code",
   "execution_count": 32,
   "metadata": {},
   "outputs": [],
   "source": [
    "target = data_nn_dummies_std['categorical_target']\n",
    "data_nn_dummies_std = data_nn_dummies_std.drop(columns='categorical_target')\n"
   ]
  },
  {
   "cell_type": "code",
   "execution_count": 33,
   "metadata": {},
   "outputs": [
    {
     "data": {
      "text/html": [
       "<div>\n",
       "<style scoped>\n",
       "    .dataframe tbody tr th:only-of-type {\n",
       "        vertical-align: middle;\n",
       "    }\n",
       "\n",
       "    .dataframe tbody tr th {\n",
       "        vertical-align: top;\n",
       "    }\n",
       "\n",
       "    .dataframe thead th {\n",
       "        text-align: right;\n",
       "    }\n",
       "</style>\n",
       "<table border=\"1\" class=\"dataframe\">\n",
       "  <thead>\n",
       "    <tr style=\"text-align: right;\">\n",
       "      <th></th>\n",
       "      <th>tripduration</th>\n",
       "      <th>is_Holiday</th>\n",
       "      <th>temp</th>\n",
       "      <th>feelslike</th>\n",
       "      <th>humidity</th>\n",
       "      <th>precip</th>\n",
       "      <th>snow</th>\n",
       "      <th>snowdepth</th>\n",
       "      <th>windspeed</th>\n",
       "      <th>cloudcover</th>\n",
       "      <th>...</th>\n",
       "      <th>time_of_day_night</th>\n",
       "      <th>icon_clear-day</th>\n",
       "      <th>icon_cloudy</th>\n",
       "      <th>icon_partly-cloudy-day</th>\n",
       "      <th>icon_rain</th>\n",
       "      <th>icon_snow</th>\n",
       "      <th>usertype_Customer</th>\n",
       "      <th>usertype_Subscriber</th>\n",
       "      <th>start station id_67</th>\n",
       "      <th>start station id_68</th>\n",
       "    </tr>\n",
       "  </thead>\n",
       "  <tbody>\n",
       "    <tr>\n",
       "      <th>0</th>\n",
       "      <td>-0.038138</td>\n",
       "      <td>1</td>\n",
       "      <td>-0.705509</td>\n",
       "      <td>-0.550967</td>\n",
       "      <td>2.493921</td>\n",
       "      <td>-0.04066</td>\n",
       "      <td>-0.158724</td>\n",
       "      <td>-0.286342</td>\n",
       "      <td>-2.441967</td>\n",
       "      <td>1.626172</td>\n",
       "      <td>...</td>\n",
       "      <td>1</td>\n",
       "      <td>0</td>\n",
       "      <td>0</td>\n",
       "      <td>0</td>\n",
       "      <td>1</td>\n",
       "      <td>0</td>\n",
       "      <td>0</td>\n",
       "      <td>1</td>\n",
       "      <td>0</td>\n",
       "      <td>1</td>\n",
       "    </tr>\n",
       "    <tr>\n",
       "      <th>1</th>\n",
       "      <td>0.319673</td>\n",
       "      <td>1</td>\n",
       "      <td>-0.705509</td>\n",
       "      <td>-0.550967</td>\n",
       "      <td>2.493921</td>\n",
       "      <td>-0.04066</td>\n",
       "      <td>-0.158724</td>\n",
       "      <td>-0.286342</td>\n",
       "      <td>-2.441967</td>\n",
       "      <td>1.626172</td>\n",
       "      <td>...</td>\n",
       "      <td>1</td>\n",
       "      <td>0</td>\n",
       "      <td>0</td>\n",
       "      <td>0</td>\n",
       "      <td>1</td>\n",
       "      <td>0</td>\n",
       "      <td>0</td>\n",
       "      <td>1</td>\n",
       "      <td>1</td>\n",
       "      <td>0</td>\n",
       "    </tr>\n",
       "    <tr>\n",
       "      <th>2</th>\n",
       "      <td>-0.077919</td>\n",
       "      <td>1</td>\n",
       "      <td>-0.705509</td>\n",
       "      <td>-0.550967</td>\n",
       "      <td>2.493921</td>\n",
       "      <td>-0.04066</td>\n",
       "      <td>-0.158724</td>\n",
       "      <td>-0.286342</td>\n",
       "      <td>-2.441967</td>\n",
       "      <td>1.626172</td>\n",
       "      <td>...</td>\n",
       "      <td>1</td>\n",
       "      <td>0</td>\n",
       "      <td>0</td>\n",
       "      <td>0</td>\n",
       "      <td>1</td>\n",
       "      <td>0</td>\n",
       "      <td>0</td>\n",
       "      <td>1</td>\n",
       "      <td>0</td>\n",
       "      <td>1</td>\n",
       "    </tr>\n",
       "    <tr>\n",
       "      <th>3</th>\n",
       "      <td>-0.063817</td>\n",
       "      <td>1</td>\n",
       "      <td>-0.705509</td>\n",
       "      <td>-0.550967</td>\n",
       "      <td>2.493921</td>\n",
       "      <td>-0.04066</td>\n",
       "      <td>-0.158724</td>\n",
       "      <td>-0.286342</td>\n",
       "      <td>-2.441967</td>\n",
       "      <td>1.626172</td>\n",
       "      <td>...</td>\n",
       "      <td>1</td>\n",
       "      <td>0</td>\n",
       "      <td>0</td>\n",
       "      <td>0</td>\n",
       "      <td>1</td>\n",
       "      <td>0</td>\n",
       "      <td>0</td>\n",
       "      <td>1</td>\n",
       "      <td>0</td>\n",
       "      <td>1</td>\n",
       "    </tr>\n",
       "    <tr>\n",
       "      <th>4</th>\n",
       "      <td>-0.102334</td>\n",
       "      <td>1</td>\n",
       "      <td>-0.705509</td>\n",
       "      <td>-0.550967</td>\n",
       "      <td>2.493921</td>\n",
       "      <td>-0.04066</td>\n",
       "      <td>-0.158724</td>\n",
       "      <td>-0.286342</td>\n",
       "      <td>-2.441967</td>\n",
       "      <td>1.626172</td>\n",
       "      <td>...</td>\n",
       "      <td>1</td>\n",
       "      <td>0</td>\n",
       "      <td>0</td>\n",
       "      <td>0</td>\n",
       "      <td>1</td>\n",
       "      <td>0</td>\n",
       "      <td>0</td>\n",
       "      <td>1</td>\n",
       "      <td>1</td>\n",
       "      <td>0</td>\n",
       "    </tr>\n",
       "  </tbody>\n",
       "</table>\n",
       "<p>5 rows × 25 columns</p>\n",
       "</div>"
      ],
      "text/plain": [
       "   tripduration  is_Holiday      temp  feelslike  humidity   precip      snow  \\\n",
       "0     -0.038138           1 -0.705509  -0.550967  2.493921 -0.04066 -0.158724   \n",
       "1      0.319673           1 -0.705509  -0.550967  2.493921 -0.04066 -0.158724   \n",
       "2     -0.077919           1 -0.705509  -0.550967  2.493921 -0.04066 -0.158724   \n",
       "3     -0.063817           1 -0.705509  -0.550967  2.493921 -0.04066 -0.158724   \n",
       "4     -0.102334           1 -0.705509  -0.550967  2.493921 -0.04066 -0.158724   \n",
       "\n",
       "   snowdepth  windspeed  cloudcover  ...  time_of_day_night  icon_clear-day  \\\n",
       "0  -0.286342  -2.441967    1.626172  ...                  1               0   \n",
       "1  -0.286342  -2.441967    1.626172  ...                  1               0   \n",
       "2  -0.286342  -2.441967    1.626172  ...                  1               0   \n",
       "3  -0.286342  -2.441967    1.626172  ...                  1               0   \n",
       "4  -0.286342  -2.441967    1.626172  ...                  1               0   \n",
       "\n",
       "   icon_cloudy  icon_partly-cloudy-day  icon_rain  icon_snow  \\\n",
       "0            0                       0          1          0   \n",
       "1            0                       0          1          0   \n",
       "2            0                       0          1          0   \n",
       "3            0                       0          1          0   \n",
       "4            0                       0          1          0   \n",
       "\n",
       "   usertype_Customer  usertype_Subscriber  start station id_67  \\\n",
       "0                  0                    1                    0   \n",
       "1                  0                    1                    1   \n",
       "2                  0                    1                    0   \n",
       "3                  0                    1                    0   \n",
       "4                  0                    1                    1   \n",
       "\n",
       "   start station id_68  \n",
       "0                    1  \n",
       "1                    0  \n",
       "2                    1  \n",
       "3                    1  \n",
       "4                    0  \n",
       "\n",
       "[5 rows x 25 columns]"
      ]
     },
     "execution_count": 33,
     "metadata": {},
     "output_type": "execute_result"
    }
   ],
   "source": [
    "data_nn_dummies_std = data_nn_dummies_std.reset_index(drop=True)\n",
    "data_nn_dummies_std.head()"
   ]
  },
  {
   "cell_type": "markdown",
   "metadata": {},
   "source": [
    "As you can see, we have achieved our goal of converting the target variable into its own categorical labels, ranging from 0 with the length of the list of end stations."
   ]
  },
  {
   "cell_type": "markdown",
   "metadata": {},
   "source": [
    "Finally, the data is ready to be split into training, validation and testing splits"
   ]
  },
  {
   "cell_type": "markdown",
   "metadata": {},
   "source": [
    "In order to avoid continued trends in climate, we have decided to make our testing set larger than usual, which should avoid high variance in comparison to our training set.\n",
    "Also worth noting, this dataset is limited in terms of obsevations, so our validation set should not be large as to include as many as possible in training."
   ]
  },
  {
   "cell_type": "code",
   "execution_count": null,
   "metadata": {},
   "outputs": [],
   "source": [
    "split = int(len(data_nn_dummies_std)*0.45)\n",
    "split_val = int(len(data_nn_dummies_std)*0.55)\n",
    "x_train = data_nn_dummies_std[:split]\n",
    "y_train = target[:split]\n",
    "y_train = np.asarray(y_train).astype('float32').reshape((-1,1))\n",
    "x_val = data_nn_dummies_std[split: split_val]\n",
    "y_val = target[split: split_val]\n",
    "y_val = np.asarray(y_val).astype('float32').reshape((-1,1))\n",
    "\n",
    "x_test = data_nn_dummies_std[split_val:]\n",
    "y_test = target[split_val:]\n",
    "y_test = np.asarray(y_test).astype('float32').reshape((-1,1))\n"
   ]
  },
  {
   "cell_type": "code",
   "execution_count": 35,
   "metadata": {},
   "outputs": [
    {
     "name": "stdout",
     "output_type": "stream",
     "text": [
      "10140 10141 True\n"
     ]
    }
   ],
   "source": [
    "print(len(x_train) ,len(x_test),len(x_train)+len(x_test) + len(x_val )== len(data_nn_dummies_std))"
   ]
  },
  {
   "cell_type": "code",
   "execution_count": 36,
   "metadata": {},
   "outputs": [
    {
     "data": {
      "text/plain": [
       "7"
      ]
     },
     "execution_count": 36,
     "metadata": {},
     "output_type": "execute_result"
    }
   ],
   "source": [
    "num_features = x_train.shape[1]\n",
    "num_output = len(target.unique())\n",
    "num_output\n"
   ]
  },
  {
   "cell_type": "code",
   "execution_count": 37,
   "metadata": {},
   "outputs": [
    {
     "data": {
      "text/html": [
       "<div>\n",
       "<style scoped>\n",
       "    .dataframe tbody tr th:only-of-type {\n",
       "        vertical-align: middle;\n",
       "    }\n",
       "\n",
       "    .dataframe tbody tr th {\n",
       "        vertical-align: top;\n",
       "    }\n",
       "\n",
       "    .dataframe thead th {\n",
       "        text-align: right;\n",
       "    }\n",
       "</style>\n",
       "<table border=\"1\" class=\"dataframe\">\n",
       "  <thead>\n",
       "    <tr style=\"text-align: right;\">\n",
       "      <th></th>\n",
       "      <th>tripduration</th>\n",
       "      <th>is_Holiday</th>\n",
       "      <th>temp</th>\n",
       "      <th>feelslike</th>\n",
       "      <th>humidity</th>\n",
       "      <th>precip</th>\n",
       "      <th>snow</th>\n",
       "      <th>snowdepth</th>\n",
       "      <th>windspeed</th>\n",
       "      <th>cloudcover</th>\n",
       "      <th>...</th>\n",
       "      <th>time_of_day_night</th>\n",
       "      <th>icon_clear-day</th>\n",
       "      <th>icon_cloudy</th>\n",
       "      <th>icon_partly-cloudy-day</th>\n",
       "      <th>icon_rain</th>\n",
       "      <th>icon_snow</th>\n",
       "      <th>usertype_Customer</th>\n",
       "      <th>usertype_Subscriber</th>\n",
       "      <th>start station id_67</th>\n",
       "      <th>start station id_68</th>\n",
       "    </tr>\n",
       "  </thead>\n",
       "  <tbody>\n",
       "    <tr>\n",
       "      <th>0</th>\n",
       "      <td>-0.038138</td>\n",
       "      <td>1</td>\n",
       "      <td>-0.705509</td>\n",
       "      <td>-0.550967</td>\n",
       "      <td>2.493921</td>\n",
       "      <td>-0.040660</td>\n",
       "      <td>-0.158724</td>\n",
       "      <td>-0.286342</td>\n",
       "      <td>-2.441967</td>\n",
       "      <td>1.626172</td>\n",
       "      <td>...</td>\n",
       "      <td>1</td>\n",
       "      <td>0</td>\n",
       "      <td>0</td>\n",
       "      <td>0</td>\n",
       "      <td>1</td>\n",
       "      <td>0</td>\n",
       "      <td>0</td>\n",
       "      <td>1</td>\n",
       "      <td>0</td>\n",
       "      <td>1</td>\n",
       "    </tr>\n",
       "    <tr>\n",
       "      <th>1</th>\n",
       "      <td>0.319673</td>\n",
       "      <td>1</td>\n",
       "      <td>-0.705509</td>\n",
       "      <td>-0.550967</td>\n",
       "      <td>2.493921</td>\n",
       "      <td>-0.040660</td>\n",
       "      <td>-0.158724</td>\n",
       "      <td>-0.286342</td>\n",
       "      <td>-2.441967</td>\n",
       "      <td>1.626172</td>\n",
       "      <td>...</td>\n",
       "      <td>1</td>\n",
       "      <td>0</td>\n",
       "      <td>0</td>\n",
       "      <td>0</td>\n",
       "      <td>1</td>\n",
       "      <td>0</td>\n",
       "      <td>0</td>\n",
       "      <td>1</td>\n",
       "      <td>1</td>\n",
       "      <td>0</td>\n",
       "    </tr>\n",
       "    <tr>\n",
       "      <th>2</th>\n",
       "      <td>-0.077919</td>\n",
       "      <td>1</td>\n",
       "      <td>-0.705509</td>\n",
       "      <td>-0.550967</td>\n",
       "      <td>2.493921</td>\n",
       "      <td>-0.040660</td>\n",
       "      <td>-0.158724</td>\n",
       "      <td>-0.286342</td>\n",
       "      <td>-2.441967</td>\n",
       "      <td>1.626172</td>\n",
       "      <td>...</td>\n",
       "      <td>1</td>\n",
       "      <td>0</td>\n",
       "      <td>0</td>\n",
       "      <td>0</td>\n",
       "      <td>1</td>\n",
       "      <td>0</td>\n",
       "      <td>0</td>\n",
       "      <td>1</td>\n",
       "      <td>0</td>\n",
       "      <td>1</td>\n",
       "    </tr>\n",
       "    <tr>\n",
       "      <th>3</th>\n",
       "      <td>-0.063817</td>\n",
       "      <td>1</td>\n",
       "      <td>-0.705509</td>\n",
       "      <td>-0.550967</td>\n",
       "      <td>2.493921</td>\n",
       "      <td>-0.040660</td>\n",
       "      <td>-0.158724</td>\n",
       "      <td>-0.286342</td>\n",
       "      <td>-2.441967</td>\n",
       "      <td>1.626172</td>\n",
       "      <td>...</td>\n",
       "      <td>1</td>\n",
       "      <td>0</td>\n",
       "      <td>0</td>\n",
       "      <td>0</td>\n",
       "      <td>1</td>\n",
       "      <td>0</td>\n",
       "      <td>0</td>\n",
       "      <td>1</td>\n",
       "      <td>0</td>\n",
       "      <td>1</td>\n",
       "    </tr>\n",
       "    <tr>\n",
       "      <th>4</th>\n",
       "      <td>-0.102334</td>\n",
       "      <td>1</td>\n",
       "      <td>-0.705509</td>\n",
       "      <td>-0.550967</td>\n",
       "      <td>2.493921</td>\n",
       "      <td>-0.040660</td>\n",
       "      <td>-0.158724</td>\n",
       "      <td>-0.286342</td>\n",
       "      <td>-2.441967</td>\n",
       "      <td>1.626172</td>\n",
       "      <td>...</td>\n",
       "      <td>1</td>\n",
       "      <td>0</td>\n",
       "      <td>0</td>\n",
       "      <td>0</td>\n",
       "      <td>1</td>\n",
       "      <td>0</td>\n",
       "      <td>0</td>\n",
       "      <td>1</td>\n",
       "      <td>1</td>\n",
       "      <td>0</td>\n",
       "    </tr>\n",
       "    <tr>\n",
       "      <th>...</th>\n",
       "      <td>...</td>\n",
       "      <td>...</td>\n",
       "      <td>...</td>\n",
       "      <td>...</td>\n",
       "      <td>...</td>\n",
       "      <td>...</td>\n",
       "      <td>...</td>\n",
       "      <td>...</td>\n",
       "      <td>...</td>\n",
       "      <td>...</td>\n",
       "      <td>...</td>\n",
       "      <td>...</td>\n",
       "      <td>...</td>\n",
       "      <td>...</td>\n",
       "      <td>...</td>\n",
       "      <td>...</td>\n",
       "      <td>...</td>\n",
       "      <td>...</td>\n",
       "      <td>...</td>\n",
       "      <td>...</td>\n",
       "      <td>...</td>\n",
       "    </tr>\n",
       "    <tr>\n",
       "      <th>10135</th>\n",
       "      <td>-0.025089</td>\n",
       "      <td>0</td>\n",
       "      <td>0.846100</td>\n",
       "      <td>0.814730</td>\n",
       "      <td>0.434981</td>\n",
       "      <td>-0.389054</td>\n",
       "      <td>-0.158724</td>\n",
       "      <td>-0.286342</td>\n",
       "      <td>0.474252</td>\n",
       "      <td>0.611216</td>\n",
       "      <td>...</td>\n",
       "      <td>0</td>\n",
       "      <td>0</td>\n",
       "      <td>0</td>\n",
       "      <td>1</td>\n",
       "      <td>0</td>\n",
       "      <td>0</td>\n",
       "      <td>0</td>\n",
       "      <td>1</td>\n",
       "      <td>1</td>\n",
       "      <td>0</td>\n",
       "    </tr>\n",
       "    <tr>\n",
       "      <th>10136</th>\n",
       "      <td>-0.049715</td>\n",
       "      <td>0</td>\n",
       "      <td>0.846100</td>\n",
       "      <td>0.814730</td>\n",
       "      <td>0.434981</td>\n",
       "      <td>-0.389054</td>\n",
       "      <td>-0.158724</td>\n",
       "      <td>-0.286342</td>\n",
       "      <td>0.474252</td>\n",
       "      <td>0.611216</td>\n",
       "      <td>...</td>\n",
       "      <td>0</td>\n",
       "      <td>0</td>\n",
       "      <td>0</td>\n",
       "      <td>1</td>\n",
       "      <td>0</td>\n",
       "      <td>0</td>\n",
       "      <td>0</td>\n",
       "      <td>1</td>\n",
       "      <td>0</td>\n",
       "      <td>1</td>\n",
       "    </tr>\n",
       "    <tr>\n",
       "      <th>10137</th>\n",
       "      <td>-0.095388</td>\n",
       "      <td>0</td>\n",
       "      <td>0.846100</td>\n",
       "      <td>0.814730</td>\n",
       "      <td>0.434981</td>\n",
       "      <td>-0.389054</td>\n",
       "      <td>-0.158724</td>\n",
       "      <td>-0.286342</td>\n",
       "      <td>0.474252</td>\n",
       "      <td>0.611216</td>\n",
       "      <td>...</td>\n",
       "      <td>0</td>\n",
       "      <td>0</td>\n",
       "      <td>0</td>\n",
       "      <td>1</td>\n",
       "      <td>0</td>\n",
       "      <td>0</td>\n",
       "      <td>0</td>\n",
       "      <td>1</td>\n",
       "      <td>0</td>\n",
       "      <td>1</td>\n",
       "    </tr>\n",
       "    <tr>\n",
       "      <th>10138</th>\n",
       "      <td>-0.068447</td>\n",
       "      <td>0</td>\n",
       "      <td>0.846100</td>\n",
       "      <td>0.814730</td>\n",
       "      <td>0.434981</td>\n",
       "      <td>-0.389054</td>\n",
       "      <td>-0.158724</td>\n",
       "      <td>-0.286342</td>\n",
       "      <td>0.474252</td>\n",
       "      <td>0.611216</td>\n",
       "      <td>...</td>\n",
       "      <td>0</td>\n",
       "      <td>0</td>\n",
       "      <td>0</td>\n",
       "      <td>1</td>\n",
       "      <td>0</td>\n",
       "      <td>0</td>\n",
       "      <td>0</td>\n",
       "      <td>1</td>\n",
       "      <td>1</td>\n",
       "      <td>0</td>\n",
       "    </tr>\n",
       "    <tr>\n",
       "      <th>10139</th>\n",
       "      <td>-0.090126</td>\n",
       "      <td>0</td>\n",
       "      <td>0.846100</td>\n",
       "      <td>0.814730</td>\n",
       "      <td>0.434981</td>\n",
       "      <td>-0.389054</td>\n",
       "      <td>-0.158724</td>\n",
       "      <td>-0.286342</td>\n",
       "      <td>0.474252</td>\n",
       "      <td>0.611216</td>\n",
       "      <td>...</td>\n",
       "      <td>0</td>\n",
       "      <td>0</td>\n",
       "      <td>0</td>\n",
       "      <td>1</td>\n",
       "      <td>0</td>\n",
       "      <td>0</td>\n",
       "      <td>0</td>\n",
       "      <td>1</td>\n",
       "      <td>0</td>\n",
       "      <td>1</td>\n",
       "    </tr>\n",
       "  </tbody>\n",
       "</table>\n",
       "<p>10140 rows × 25 columns</p>\n",
       "</div>"
      ],
      "text/plain": [
       "       tripduration  is_Holiday      temp  feelslike  humidity    precip  \\\n",
       "0         -0.038138           1 -0.705509  -0.550967  2.493921 -0.040660   \n",
       "1          0.319673           1 -0.705509  -0.550967  2.493921 -0.040660   \n",
       "2         -0.077919           1 -0.705509  -0.550967  2.493921 -0.040660   \n",
       "3         -0.063817           1 -0.705509  -0.550967  2.493921 -0.040660   \n",
       "4         -0.102334           1 -0.705509  -0.550967  2.493921 -0.040660   \n",
       "...             ...         ...       ...        ...       ...       ...   \n",
       "10135     -0.025089           0  0.846100   0.814730  0.434981 -0.389054   \n",
       "10136     -0.049715           0  0.846100   0.814730  0.434981 -0.389054   \n",
       "10137     -0.095388           0  0.846100   0.814730  0.434981 -0.389054   \n",
       "10138     -0.068447           0  0.846100   0.814730  0.434981 -0.389054   \n",
       "10139     -0.090126           0  0.846100   0.814730  0.434981 -0.389054   \n",
       "\n",
       "           snow  snowdepth  windspeed  cloudcover  ...  time_of_day_night  \\\n",
       "0     -0.158724  -0.286342  -2.441967    1.626172  ...                  1   \n",
       "1     -0.158724  -0.286342  -2.441967    1.626172  ...                  1   \n",
       "2     -0.158724  -0.286342  -2.441967    1.626172  ...                  1   \n",
       "3     -0.158724  -0.286342  -2.441967    1.626172  ...                  1   \n",
       "4     -0.158724  -0.286342  -2.441967    1.626172  ...                  1   \n",
       "...         ...        ...        ...         ...  ...                ...   \n",
       "10135 -0.158724  -0.286342   0.474252    0.611216  ...                  0   \n",
       "10136 -0.158724  -0.286342   0.474252    0.611216  ...                  0   \n",
       "10137 -0.158724  -0.286342   0.474252    0.611216  ...                  0   \n",
       "10138 -0.158724  -0.286342   0.474252    0.611216  ...                  0   \n",
       "10139 -0.158724  -0.286342   0.474252    0.611216  ...                  0   \n",
       "\n",
       "       icon_clear-day  icon_cloudy  icon_partly-cloudy-day  icon_rain  \\\n",
       "0                   0            0                       0          1   \n",
       "1                   0            0                       0          1   \n",
       "2                   0            0                       0          1   \n",
       "3                   0            0                       0          1   \n",
       "4                   0            0                       0          1   \n",
       "...               ...          ...                     ...        ...   \n",
       "10135               0            0                       1          0   \n",
       "10136               0            0                       1          0   \n",
       "10137               0            0                       1          0   \n",
       "10138               0            0                       1          0   \n",
       "10139               0            0                       1          0   \n",
       "\n",
       "       icon_snow  usertype_Customer  usertype_Subscriber  start station id_67  \\\n",
       "0              0                  0                    1                    0   \n",
       "1              0                  0                    1                    1   \n",
       "2              0                  0                    1                    0   \n",
       "3              0                  0                    1                    0   \n",
       "4              0                  0                    1                    1   \n",
       "...          ...                ...                  ...                  ...   \n",
       "10135          0                  0                    1                    1   \n",
       "10136          0                  0                    1                    0   \n",
       "10137          0                  0                    1                    0   \n",
       "10138          0                  0                    1                    1   \n",
       "10139          0                  0                    1                    0   \n",
       "\n",
       "       start station id_68  \n",
       "0                        1  \n",
       "1                        0  \n",
       "2                        1  \n",
       "3                        1  \n",
       "4                        0  \n",
       "...                    ...  \n",
       "10135                    0  \n",
       "10136                    1  \n",
       "10137                    1  \n",
       "10138                    0  \n",
       "10139                    1  \n",
       "\n",
       "[10140 rows x 25 columns]"
      ]
     },
     "execution_count": 37,
     "metadata": {},
     "output_type": "execute_result"
    }
   ],
   "source": [
    "x_train"
   ]
  },
  {
   "cell_type": "markdown",
   "metadata": {},
   "source": [
    "## TRAINING AND PREDICTIONS"
   ]
  },
  {
   "cell_type": "code",
   "execution_count": 38,
   "metadata": {},
   "outputs": [],
   "source": [
    "import tensorflow as tf\n",
    "tf.keras.backend.clear_session()"
   ]
  },
  {
   "cell_type": "markdown",
   "metadata": {},
   "source": [
    "As has been mentioned before, this test case is a multiclass classification problem, not a simple binary classification one. This has multiple implications: first of all, the output of our model will not be a single neuron, but the number of end stations we are trying to predict for. The loss function used for the model can't be binary crossentropy, since it is designed to tackle binary classification problems, but it will be sparse categorical crossentropy. Categorical crossentropy is also a viable option but would require extra data processing that can be skipped using the former, as well as making the target data less inuitive to read since it would be one-hot encoded into tensors, compared to our current output which is a simple integer in the range of 0 to the number of end stations."
   ]
  },
  {
   "cell_type": "markdown",
   "metadata": {},
   "source": [
    "In terms of the architecture of the neural network, we believe this is a very complex and unintuitive problem to solve, meaning that it is essencial to recognize as many patterns as possible.\n",
    "For this reason, 3 hidden layers have been implemented, with the number of neurons getting higher in the first one in order to map our data into a higher-dimension space.\n",
    "The weights have also been initialized with the uniform Glorot method to ensure that the variance of the weights is uniform across the first layer."
   ]
  },
  {
   "cell_type": "code",
   "execution_count": 41,
   "metadata": {},
   "outputs": [],
   "source": [
    "import keras\n",
    "from keras.models import Sequential\n",
    "from keras.layers import Dense, Dropout\n",
    "\n",
    "# define the keras model\n",
    "model = Sequential()\n",
    "model.add(Dense(200, input_shape = (x_train.shape[1],), activation='relu'\n",
    ", kernel_initializer='glorot_uniform'),)\n",
    "\n",
    "model.add(Dense(350, activation='softmax'))\n",
    "model.add(Dense(150, activation='relu'))\n",
    "model.add(Dense(80, activation='relu'))\n",
    "model.add(Dense(num_output, activation='softmax'))"
   ]
  },
  {
   "cell_type": "code",
   "execution_count": 42,
   "metadata": {},
   "outputs": [
    {
     "name": "stdout",
     "output_type": "stream",
     "text": [
      "Epoch 1/40\n",
      "34/34 [==============================] - 1s 9ms/step - loss: 1.9151 - accuracy: 0.1851 - val_loss: 1.9273 - val_accuracy: 0.2055\n",
      "Epoch 2/40\n",
      "34/34 [==============================] - 0s 5ms/step - loss: 1.8880 - accuracy: 0.2032 - val_loss: 1.9137 - val_accuracy: 0.2082\n",
      "Epoch 3/40\n",
      "34/34 [==============================] - 0s 5ms/step - loss: 1.8322 - accuracy: 0.2434 - val_loss: 1.8556 - val_accuracy: 0.2583\n",
      "Epoch 4/40\n",
      "34/34 [==============================] - 0s 5ms/step - loss: 1.7943 - accuracy: 0.2699 - val_loss: 1.8340 - val_accuracy: 0.2654\n",
      "Epoch 5/40\n",
      "34/34 [==============================] - 0s 5ms/step - loss: 1.7755 - accuracy: 0.2762 - val_loss: 1.8016 - val_accuracy: 0.2867\n",
      "Epoch 6/40\n",
      "34/34 [==============================] - 0s 5ms/step - loss: 1.7556 - accuracy: 0.2898 - val_loss: 1.7673 - val_accuracy: 0.3245\n",
      "Epoch 7/40\n",
      "34/34 [==============================] - 0s 5ms/step - loss: 1.7331 - accuracy: 0.2984 - val_loss: 1.7532 - val_accuracy: 0.3213\n",
      "Epoch 8/40\n",
      "34/34 [==============================] - 0s 5ms/step - loss: 1.7129 - accuracy: 0.3131 - val_loss: 1.7292 - val_accuracy: 0.3307\n",
      "Epoch 9/40\n",
      "34/34 [==============================] - 0s 5ms/step - loss: 1.6905 - accuracy: 0.3205 - val_loss: 1.7123 - val_accuracy: 0.3271\n",
      "Epoch 10/40\n",
      "34/34 [==============================] - 0s 5ms/step - loss: 1.6705 - accuracy: 0.3337 - val_loss: 1.6922 - val_accuracy: 0.3444\n",
      "Epoch 11/40\n",
      "34/34 [==============================] - 0s 5ms/step - loss: 1.6432 - accuracy: 0.3457 - val_loss: 1.6679 - val_accuracy: 0.3648\n",
      "Epoch 12/40\n",
      "34/34 [==============================] - 0s 5ms/step - loss: 1.6127 - accuracy: 0.3625 - val_loss: 1.6388 - val_accuracy: 0.3711\n",
      "Epoch 13/40\n",
      "34/34 [==============================] - 0s 5ms/step - loss: 1.5901 - accuracy: 0.3807 - val_loss: 1.6214 - val_accuracy: 0.3751\n",
      "Epoch 14/40\n",
      "34/34 [==============================] - 0s 5ms/step - loss: 1.5612 - accuracy: 0.3861 - val_loss: 1.6051 - val_accuracy: 0.3972\n",
      "Epoch 15/40\n",
      "34/34 [==============================] - 0s 5ms/step - loss: 1.5366 - accuracy: 0.4070 - val_loss: 1.6067 - val_accuracy: 0.3950\n",
      "Epoch 16/40\n",
      "34/34 [==============================] - 0s 5ms/step - loss: 1.5145 - accuracy: 0.4136 - val_loss: 1.5665 - val_accuracy: 0.4083\n",
      "Epoch 17/40\n",
      "34/34 [==============================] - 0s 5ms/step - loss: 1.5107 - accuracy: 0.4182 - val_loss: 1.5893 - val_accuracy: 0.4092\n",
      "Epoch 18/40\n",
      "34/34 [==============================] - 0s 5ms/step - loss: 1.4950 - accuracy: 0.4246 - val_loss: 1.5522 - val_accuracy: 0.4186\n",
      "Epoch 19/40\n",
      "34/34 [==============================] - 0s 5ms/step - loss: 1.4657 - accuracy: 0.4349 - val_loss: 1.5366 - val_accuracy: 0.4274\n",
      "Epoch 20/40\n",
      "34/34 [==============================] - 0s 5ms/step - loss: 1.4513 - accuracy: 0.4417 - val_loss: 1.5296 - val_accuracy: 0.4305\n",
      "Epoch 21/40\n",
      "34/34 [==============================] - 0s 5ms/step - loss: 1.4363 - accuracy: 0.4520 - val_loss: 1.5247 - val_accuracy: 0.4350\n",
      "Epoch 22/40\n",
      "34/34 [==============================] - 0s 5ms/step - loss: 1.4405 - accuracy: 0.4444 - val_loss: 1.5006 - val_accuracy: 0.4345\n",
      "Epoch 23/40\n",
      "34/34 [==============================] - 0s 5ms/step - loss: 1.4147 - accuracy: 0.4612 - val_loss: 1.4999 - val_accuracy: 0.4447\n",
      "Epoch 24/40\n",
      "34/34 [==============================] - 0s 5ms/step - loss: 1.4194 - accuracy: 0.4500 - val_loss: 1.4901 - val_accuracy: 0.4394\n",
      "Epoch 25/40\n",
      "34/34 [==============================] - 0s 5ms/step - loss: 1.4001 - accuracy: 0.4581 - val_loss: 1.4972 - val_accuracy: 0.4341\n",
      "Epoch 26/40\n",
      "34/34 [==============================] - 0s 5ms/step - loss: 1.4007 - accuracy: 0.4564 - val_loss: 1.4980 - val_accuracy: 0.4403\n",
      "Epoch 27/40\n",
      "34/34 [==============================] - 0s 5ms/step - loss: 1.4002 - accuracy: 0.4508 - val_loss: 1.4809 - val_accuracy: 0.4368\n",
      "Epoch 28/40\n",
      "34/34 [==============================] - 0s 5ms/step - loss: 1.3857 - accuracy: 0.4594 - val_loss: 1.4723 - val_accuracy: 0.4443\n",
      "Epoch 29/40\n",
      "34/34 [==============================] - 0s 5ms/step - loss: 1.3845 - accuracy: 0.4574 - val_loss: 1.4830 - val_accuracy: 0.4359\n",
      "Epoch 30/40\n",
      "34/34 [==============================] - 0s 5ms/step - loss: 1.3760 - accuracy: 0.4605 - val_loss: 1.4749 - val_accuracy: 0.4328\n",
      "Epoch 31/40\n",
      "34/34 [==============================] - 0s 5ms/step - loss: 1.3745 - accuracy: 0.4610 - val_loss: 1.4536 - val_accuracy: 0.4363\n",
      "Epoch 32/40\n",
      "34/34 [==============================] - 0s 5ms/step - loss: 1.3660 - accuracy: 0.4657 - val_loss: 1.4688 - val_accuracy: 0.4425\n",
      "Epoch 33/40\n",
      "34/34 [==============================] - 0s 5ms/step - loss: 1.3637 - accuracy: 0.4670 - val_loss: 1.4807 - val_accuracy: 0.4265\n",
      "Epoch 34/40\n",
      "34/34 [==============================] - 0s 5ms/step - loss: 1.3550 - accuracy: 0.4702 - val_loss: 1.4875 - val_accuracy: 0.4332\n",
      "Epoch 35/40\n",
      "34/34 [==============================] - 0s 5ms/step - loss: 1.3566 - accuracy: 0.4714 - val_loss: 1.4536 - val_accuracy: 0.4443\n",
      "Epoch 36/40\n",
      "34/34 [==============================] - 0s 5ms/step - loss: 1.3466 - accuracy: 0.4719 - val_loss: 1.4529 - val_accuracy: 0.4487\n",
      "Epoch 37/40\n",
      "34/34 [==============================] - 0s 5ms/step - loss: 1.3444 - accuracy: 0.4775 - val_loss: 1.4835 - val_accuracy: 0.4336\n",
      "Epoch 38/40\n",
      "34/34 [==============================] - 0s 5ms/step - loss: 1.3423 - accuracy: 0.4743 - val_loss: 1.4528 - val_accuracy: 0.4430\n",
      "Epoch 39/40\n",
      "34/34 [==============================] - 0s 5ms/step - loss: 1.3452 - accuracy: 0.4739 - val_loss: 1.4444 - val_accuracy: 0.4425\n",
      "Epoch 40/40\n",
      "34/34 [==============================] - 0s 5ms/step - loss: 1.3302 - accuracy: 0.4805 - val_loss: 1.4624 - val_accuracy: 0.4474\n"
     ]
    },
    {
     "data": {
      "text/plain": [
       "<keras.callbacks.History at 0x19c9b86fa90>"
      ]
     },
     "execution_count": 42,
     "metadata": {},
     "output_type": "execute_result"
    }
   ],
   "source": [
    "model.compile(loss='sparse_categorical_crossentropy', optimizer='adam', metrics=['accuracy'])\n",
    "\n",
    "# fit the keras model on the dataset\n",
    "model.fit(x_train, y_train, epochs=40, batch_size=300, validation_data=(x_val,y_val))\n",
    "\n"
   ]
  },
  {
   "cell_type": "code",
   "execution_count": 43,
   "metadata": {},
   "outputs": [
    {
     "name": "stdout",
     "output_type": "stream",
     "text": [
      "317/317 [==============================] - 0s 1ms/step\n"
     ]
    }
   ],
   "source": [
    "prediction = model.predict(x_test)"
   ]
  },
  {
   "cell_type": "code",
   "execution_count": 44,
   "metadata": {},
   "outputs": [
    {
     "name": "stdout",
     "output_type": "stream",
     "text": [
      "Accuracy   :  0.44 \n"
     ]
    }
   ],
   "source": [
    "loss, accuracy =  model.evaluate(x_test, y_test, verbose=0)\n",
    "\n",
    "print(\"Accuracy   : {:5.2f} \".format(accuracy))"
   ]
  },
  {
   "cell_type": "code",
   "execution_count": 45,
   "metadata": {},
   "outputs": [
    {
     "name": "stdout",
     "output_type": "stream",
     "text": [
      "317/317 [==============================] - 0s 1ms/step\n"
     ]
    },
    {
     "data": {
      "text/plain": [
       "array([0.35522664, 0.52560148, 0.50874404, 0.49231797, 0.51330351,\n",
       "       0.37453936, 0.02085308])"
      ]
     },
     "execution_count": 45,
     "metadata": {},
     "output_type": "execute_result"
    }
   ],
   "source": [
    "from sklearn.metrics import f1_score\n",
    "prediction = np.argmax(model.predict(x_test), axis=-1)\n",
    "f1_score(y_test, prediction, average=None)"
   ]
  },
  {
   "cell_type": "code",
   "execution_count": 54,
   "metadata": {},
   "outputs": [
    {
     "data": {
      "text/plain": [
       "<AxesSubplot: >"
      ]
     },
     "execution_count": 54,
     "metadata": {},
     "output_type": "execute_result"
    },
    {
     "data": {
      "image/png": "[encoded data removed]",
      "text/plain": [
       "<Figure size 640x480 with 2 Axes>"
      ]
     },
     "metadata": {},
     "output_type": "display_data"
    }
   ],
   "source": [
    "from sklearn.metrics import confusion_matrix\n",
    "import seaborn as sns\n",
    "sns.heatmap(confusion_matrix(y_test,prediction))"
   ]
  },
  {
   "cell_type": "markdown",
   "metadata": {},
   "source": [
    "After using our test data for predicting purposes, we can in the see the f-1 score for each end station and the confusion matrix that the model is relatively accurate given the complexity of the problem across most stations except for the last one, where we see an abnormaly low score in comparison. "
   ]
  },
  {
   "cell_type": "markdown",
   "metadata": {},
   "source": [
    "## Random tree forest classifier\n"
   ]
  },
  {
   "cell_type": "markdown",
   "metadata": {},
   "source": [
    "The last part of this challenge will be comparing our previously analyzed classifier with a DecisionTreeClassifier. Since this one only uses binary decision-making with respect to each feature and our problem is of a high complexity, it is expected to perform far worse than a Neural Network.\n",
    "Implementing this classifier is trivial given that all the data preparation has already been done in the previous section"
   ]
  },
  {
   "cell_type": "code",
   "execution_count": 47,
   "metadata": {},
   "outputs": [],
   "source": [
    "from sklearn.tree import DecisionTreeClassifier\n"
   ]
  },
  {
   "cell_type": "code",
   "execution_count": 48,
   "metadata": {},
   "outputs": [
    {
     "data": {
      "text/plain": [
       "0.3046050685336752"
      ]
     },
     "execution_count": 48,
     "metadata": {},
     "output_type": "execute_result"
    }
   ],
   "source": [
    "dt=DecisionTreeClassifier()\n",
    "dt.fit(x_train, y_train)\n",
    "dt.score(x_test,y_test)\n"
   ]
  },
  {
   "cell_type": "code",
   "execution_count": 56,
   "metadata": {},
   "outputs": [
    {
     "data": {
      "image/png": "[encoded data removed]",
      "text/plain": [
       "<Figure size 640x480 with 2 Axes>"
      ]
     },
     "metadata": {},
     "output_type": "display_data"
    }
   ],
   "source": [
    "ypred=dt.predict(x_test)\n",
    "sns.heatmap(confusion_matrix(y_test, ypred))\n",
    "plt.show()"
   ]
  },
  {
   "cell_type": "code",
   "execution_count": 58,
   "metadata": {},
   "outputs": [
    {
     "data": {
      "text/plain": [
       "array([0.31078511, 0.33026874, 0.30382683, 0.22512235, 0.42326928,\n",
       "       0.26915114, 0.18360334])"
      ]
     },
     "execution_count": 58,
     "metadata": {},
     "output_type": "execute_result"
    }
   ],
   "source": [
    "f1_score(y_test,ypred, average= None)"
   ]
  },
  {
   "cell_type": "markdown",
   "metadata": {},
   "source": [
    "As can be seen in these metrics, the model perform far worse than the NN, which was expected.\n",
    "However, the model's station per station metrics are quite different than the ones for the NN. For example, class 3 (corresponding to station 107) is predicted far worse than in the previous model, with class 6 being more accurate in relation to the average."
   ]
  }
 ],
 "metadata": {
  "kernelspec": {
   "display_name": "Python 3.10.0 64-bit",
   "language": "python",
   "name": "python3"
  },
  "language_info": {
   "codemirror_mode": {
    "name": "ipython",
    "version": 3
   },
   "file_extension": ".py",
   "mimetype": "text/x-python",
   "name": "python",
   "nbconvert_exporter": "python",
   "pygments_lexer": "ipython3",
   "version": "3.10.0"
  },
  "orig_nbformat": 4,
  "vscode": {
   "interpreter": {
    "hash": "26de051ba29f2982a8de78e945f0abaf191376122a1563185a90213a26c5da77"
   }
  }
 },
 "nbformat": 4,
 "nbformat_minor": 2
}
