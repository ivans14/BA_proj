{
 "cells": [
  {
   "cell_type": "code",
   "execution_count": 463,
   "metadata": {},
   "outputs": [],
   "source": [
    "import numpy as np\n",
    "import pandas as pd\n",
    "from keras.models import Sequential\n",
    "from keras.layers import Dense, Dropout\n",
    "from sklearn.metrics import confusion_matrix, recall_score, accuracy_score, precision_score\n",
    "from keras.utils import to_categorical\n",
    "from sklearn.preprocessing import OrdinalEncoder\n",
    "\n",
    "%matplotlib inline\n",
    "import matplotlib.pyplot as plt\n",
    "from keras.utils.np_utils import to_categorical"
   ]
  },
  {
   "cell_type": "markdown",
   "metadata": {},
   "source": [
    "This part of the exploratory comoponent will try to answer the question: can the end station of a trip be predicted starting from a single known station?\n",
    "It is our belief that this is a hugely interesting topic to inverstigate, which will be done through two of the techniques learnt during the course: neural networks and a Tree Forest Classifier. "
   ]
  },
  {
   "cell_type": "markdown",
   "metadata": {},
   "source": [
    "First of all, all the relevant data needs to be loaded, which includes the pickups information as well as the wheather data and national holidays dates, which will be added as a column with a binary value (1 indicating that the day is indeed a national holiday and 0 otherwise).\n",
    "Once this is achieved, both dataframes will be merged by date. Since the nature of this problem calls for keeping each pickup as a separate instance in the dataframe, the merge will happen on the pickups data side.\n"
   ]
  },
  {
   "cell_type": "code",
   "execution_count": 3,
   "metadata": {},
   "outputs": [],
   "source": [
    "data_exp=pd.read_csv('BikeSharing_Bluebikes2022.csv')\n",
    "nat_hol = ['2022-01-01','2022-01-17','2022-02-21','2022-04-17','2022-04-18','2022-05-08','2022-05-30','2022-06-19','2022-06-20','2022-07-04']\n",
    "\n",
    "data_exp['is_Holiday'] = [ 1 if data_exp.iloc[i]['starttime'][0:10] in nat_hol else 0 for i in range(len(data_exp))]\n"
   ]
  },
  {
   "cell_type": "markdown",
   "metadata": {},
   "source": [
    "As we have seen before, there is data in the wheather dataframe which is highly correlated with each other, like 'temp' and 'tempmax' for example, while others are not relevant at all to our study. All of these features will be dropped."
   ]
  },
  {
   "cell_type": "code",
   "execution_count": 603,
   "metadata": {},
   "outputs": [],
   "source": [
    "data_w = pd.read_csv(\"Boston 2022-01-01 to 2022-08-31.csv\")\n",
    "drop = ['dew', 'sunrise','sunset','moonphase','conditions', 'description','stations','sealevelpressure',\n",
    "'windgust','severerisk', 'uvindex', 'solarenergy', 'solarradiation','preciptype','winddir','name'\n",
    ",'tempmax', 'tempmin','feelslikemax', 'feelslikemin','precipprob', 'precipcover']\n",
    "data_w = data_w.drop(columns = drop)\n",
    "data_w['datetime'] = pd.to_datetime(data_w['datetime'])"
   ]
  },
  {
   "cell_type": "code",
   "execution_count": 604,
   "metadata": {},
   "outputs": [],
   "source": [
    "from datetime import datetime as dt\n",
    "\n",
    "data_exp['starttime'] = pd.to_datetime(data_exp['starttime'], format='%Y-%m-%d %H:%M:%S')\n",
    "data_exp['datetime'] = pd.to_datetime(data_exp['starttime']).dt.date\n",
    "data_exp['datetime'] = pd.to_datetime(data_exp['datetime'])\n",
    "\n",
    "data_merge = data_exp.merge(data_w, how='left', on='datetime')"
   ]
  },
  {
   "cell_type": "code",
   "execution_count": 605,
   "metadata": {},
   "outputs": [],
   "source": [
    "data_merge.columns\n",
    "data_merge = data_merge.drop(columns=(['Unnamed: 0']))"
   ]
  },
  {
   "cell_type": "code",
   "execution_count": 606,
   "metadata": {},
   "outputs": [
    {
     "data": {
      "text/plain": [
       "Index(['tripduration', 'starttime', 'stoptime', 'start station id',\n",
       "       'start station name', 'start station latitude',\n",
       "       'start station longitude', 'end station id', 'end station name',\n",
       "       'end station latitude', 'end station longitude', 'bikeid', 'usertype',\n",
       "       'postal code', 'is_Holiday', 'datetime', 'temp', 'feelslike',\n",
       "       'humidity', 'precip', 'snow', 'snowdepth', 'windspeed', 'cloudcover',\n",
       "       'visibility', 'icon'],\n",
       "      dtype='object')"
      ]
     },
     "execution_count": 606,
     "metadata": {},
     "output_type": "execute_result"
    }
   ],
   "source": [
    "data_merge.columns\n"
   ]
  },
  {
   "cell_type": "markdown",
   "metadata": {},
   "source": [
    "In order to conduct a coherent study, we need to choose the start station with sufficient data, which means counting the instances of each start station and creating a new dataframe including only those from the most repeated one."
   ]
  },
  {
   "cell_type": "code",
   "execution_count": 607,
   "metadata": {},
   "outputs": [
    {
     "name": "stdout",
     "output_type": "stream",
     "text": [
      "67\n"
     ]
    },
    {
     "data": {
      "text/plain": [
       "49127"
      ]
     },
     "execution_count": 607,
     "metadata": {},
     "output_type": "execute_result"
    }
   ],
   "source": [
    "list = []\n",
    "for i in data_merge['start station id'].unique():\n",
    "    count = data_merge[data_merge['start station id']==i].count()[0]\n",
    "    list.append(count)\n",
    "\n",
    "maxim = data_merge['start station id'].unique()[list.index(max(list))]\n",
    "print(maxim)\n",
    "data_merge[data_merge['start station id']==maxim].count()[0]\n",
    "\n"
   ]
  },
  {
   "cell_type": "markdown",
   "metadata": {},
   "source": [
    "In this case, station 67 happens to be the most frequent, with a total count of almost fifty thousand data points."
   ]
  },
  {
   "cell_type": "code",
   "execution_count": 608,
   "metadata": {},
   "outputs": [
    {
     "data": {
      "text/plain": [
       "0    67\n",
       "Name: end station id, dtype: int64"
      ]
     },
     "execution_count": 608,
     "metadata": {},
     "output_type": "execute_result"
    }
   ],
   "source": [
    "data_merge['end station id'].mode()\n"
   ]
  },
  {
   "cell_type": "code",
   "execution_count": 609,
   "metadata": {},
   "outputs": [],
   "source": [
    "data_merge = data_merge[data_merge['start station id']== 67]"
   ]
  },
  {
   "cell_type": "markdown",
   "metadata": {},
   "source": [
    "It is also important to investigate how balanced our data is, since having a couple of end stations with a huge number of entries can lead to unclear prediction models."
   ]
  },
  {
   "cell_type": "code",
   "execution_count": 610,
   "metadata": {},
   "outputs": [],
   "source": [
    "dic_stations = {}\n",
    "for i in data_merge['end station id']:\n",
    "    if str(i) in dic_stations.keys():\n",
    "        dic_stations[str(i)] +=1\n",
    "    else:\n",
    "        dic_stations[str(i)] = 1"
   ]
  },
  {
   "cell_type": "code",
   "execution_count": 611,
   "metadata": {},
   "outputs": [
    {
     "data": {
      "image/png": "[encoded data removed]",
      "text/plain": [
       "<Figure size 640x480 with 1 Axes>"
      ]
     },
     "metadata": {},
     "output_type": "display_data"
    }
   ],
   "source": [
    "plot = plt.bar(*zip(*dic_stations.items()))\n",
    "plt.show()"
   ]
  },
  {
   "cell_type": "markdown",
   "metadata": {},
   "source": [
    "As we can see in the plot above, there are a handful of stations that can skew the data. As such we will only select those end stations that fall into a certain range of instances"
   ]
  },
  {
   "cell_type": "code",
   "execution_count": 612,
   "metadata": {},
   "outputs": [
    {
     "name": "stdout",
     "output_type": "stream",
     "text": [
      "287 337\n"
     ]
    }
   ],
   "source": [
    "excluded_stations = []\n",
    "for i in data_merge['end station id'].unique():\n",
    "    count = data_merge[data_merge['end station id']==i].count()[0]\n",
    "    if 250 < count <2500:\n",
    "        continue\n",
    "    else:\n",
    "        excluded_stations.append(i)\n",
    "\n",
    "print(len(excluded_stations),len(data_merge['end station id'].unique()))"
   ]
  },
  {
   "cell_type": "code",
   "execution_count": 613,
   "metadata": {},
   "outputs": [
    {
     "data": {
      "text/plain": [
       "[108,\n",
       " 68,\n",
       " 224,\n",
       " 115,\n",
       " 221,\n",
       " 377,\n",
       " 11,\n",
       " 352,\n",
       " 44,\n",
       " 98,\n",
       " 141,\n",
       " 95,\n",
       " 180,\n",
       " 89,\n",
       " 9,\n",
       " 408,\n",
       " 99,\n",
       " 90,\n",
       " 21,\n",
       " 25,\n",
       " 338,\n",
       " 54,\n",
       " 381,\n",
       " 549,\n",
       " 228,\n",
       " 462,\n",
       " 6,\n",
       " 10,\n",
       " 330,\n",
       " 374,\n",
       " 16,\n",
       " 22,\n",
       " 364,\n",
       " 100,\n",
       " 39,\n",
       " 400,\n",
       " 160,\n",
       " 193,\n",
       " 176,\n",
       " 417,\n",
       " 73,\n",
       " 110,\n",
       " 378,\n",
       " 399,\n",
       " 3,\n",
       " 143,\n",
       " 403,\n",
       " 104,\n",
       " 19,\n",
       " 12,\n",
       " 446,\n",
       " 86,\n",
       " 51,\n",
       " 233,\n",
       " 94,\n",
       " 332,\n",
       " 401,\n",
       " 66,\n",
       " 379,\n",
       " 206,\n",
       " 81,\n",
       " 226,\n",
       " 554,\n",
       " 87,\n",
       " 333,\n",
       " 376,\n",
       " 398,\n",
       " 205,\n",
       " 131,\n",
       " 499,\n",
       " 37,\n",
       " 426,\n",
       " 117,\n",
       " 553,\n",
       " 70,\n",
       " 345,\n",
       " 78,\n",
       " 234,\n",
       " 14,\n",
       " 195,\n",
       " 138,\n",
       " 43,\n",
       " 144,\n",
       " 49,\n",
       " 157,\n",
       " 182,\n",
       " 331,\n",
       " 17,\n",
       " 77,\n",
       " 495,\n",
       " 40,\n",
       " 96,\n",
       " 133,\n",
       " 334,\n",
       " 111,\n",
       " 360,\n",
       " 102,\n",
       " 222,\n",
       " 59,\n",
       " 456,\n",
       " 69,\n",
       " 56,\n",
       " 15,\n",
       " 272,\n",
       " 181,\n",
       " 93,\n",
       " 175,\n",
       " 557,\n",
       " 492,\n",
       " 29,\n",
       " 187,\n",
       " 47,\n",
       " 467,\n",
       " 4,\n",
       " 356,\n",
       " 359,\n",
       " 282,\n",
       " 344,\n",
       " 109,\n",
       " 530,\n",
       " 371,\n",
       " 8,\n",
       " 149,\n",
       " 71,\n",
       " 536,\n",
       " 150,\n",
       " 27,\n",
       " 385,\n",
       " 452,\n",
       " 279,\n",
       " 463,\n",
       " 30,\n",
       " 367,\n",
       " 161,\n",
       " 415,\n",
       " 20,\n",
       " 137,\n",
       " 118,\n",
       " 31,\n",
       " 188,\n",
       " 363,\n",
       " 405,\n",
       " 7,\n",
       " 491,\n",
       " 26,\n",
       " 186,\n",
       " 23,\n",
       " 142,\n",
       " 235,\n",
       " 200,\n",
       " 85,\n",
       " 409,\n",
       " 365,\n",
       " 327,\n",
       " 140,\n",
       " 280,\n",
       " 502,\n",
       " 488,\n",
       " 79,\n",
       " 329,\n",
       " 458,\n",
       " 125,\n",
       " 402,\n",
       " 65,\n",
       " 440,\n",
       " 346,\n",
       " 151,\n",
       " 273,\n",
       " 296,\n",
       " 121,\n",
       " 407,\n",
       " 103,\n",
       " 455,\n",
       " 459,\n",
       " 159,\n",
       " 362,\n",
       " 218,\n",
       " 145,\n",
       " 354,\n",
       " 425,\n",
       " 480,\n",
       " 558,\n",
       " 416,\n",
       " 384,\n",
       " 152,\n",
       " 531,\n",
       " 183,\n",
       " 406,\n",
       " 424,\n",
       " 460,\n",
       " 236,\n",
       " 550,\n",
       " 328,\n",
       " 35,\n",
       " 428,\n",
       " 490,\n",
       " 441,\n",
       " 156,\n",
       " 529,\n",
       " 475,\n",
       " 13,\n",
       " 560,\n",
       " 196,\n",
       " 57,\n",
       " 171,\n",
       " 239,\n",
       " 509,\n",
       " 122,\n",
       " 447,\n",
       " 126,\n",
       " 192,\n",
       " 167,\n",
       " 5,\n",
       " 136,\n",
       " 120,\n",
       " 523,\n",
       " 535,\n",
       " 201,\n",
       " 169,\n",
       " 48,\n",
       " 454,\n",
       " 63,\n",
       " 129,\n",
       " 50,\n",
       " 487,\n",
       " 461,\n",
       " 540,\n",
       " 114,\n",
       " 130,\n",
       " 443,\n",
       " 351,\n",
       " 204,\n",
       " 524,\n",
       " 101,\n",
       " 119,\n",
       " 64,\n",
       " 163,\n",
       " 532,\n",
       " 208,\n",
       " 539,\n",
       " 113,\n",
       " 197,\n",
       " 24,\n",
       " 271,\n",
       " 82,\n",
       " 412,\n",
       " 146,\n",
       " 561,\n",
       " 564,\n",
       " 92,\n",
       " 445,\n",
       " 391,\n",
       " 390,\n",
       " 533,\n",
       " 128,\n",
       " 199,\n",
       " 358,\n",
       " 373,\n",
       " 508,\n",
       " 395,\n",
       " 191,\n",
       " 112,\n",
       " 357,\n",
       " 414,\n",
       " 319,\n",
       " 135,\n",
       " 106,\n",
       " 194,\n",
       " 537,\n",
       " 124,\n",
       " 1,\n",
       " 174,\n",
       " 556,\n",
       " 368,\n",
       " 464,\n",
       " 566,\n",
       " 260,\n",
       " 481,\n",
       " 442,\n",
       " 525,\n",
       " 514,\n",
       " 567,\n",
       " 339,\n",
       " 397,\n",
       " 568,\n",
       " 510,\n",
       " 469]"
      ]
     },
     "execution_count": 613,
     "metadata": {},
     "output_type": "execute_result"
    }
   ],
   "source": [
    "excluded_stations"
   ]
  },
  {
   "cell_type": "markdown",
   "metadata": {},
   "source": [
    "As a result of this exploration, 187 stations and their respective data will be eliminated from the dataset"
   ]
  },
  {
   "cell_type": "code",
   "execution_count": 614,
   "metadata": {},
   "outputs": [],
   "source": [
    "data_merge = data_merge[~data_merge['end station id'].isin(excluded_stations)]"
   ]
  },
  {
   "cell_type": "code",
   "execution_count": 615,
   "metadata": {},
   "outputs": [
    {
     "data": {
      "text/plain": [
       "50"
      ]
     },
     "execution_count": 615,
     "metadata": {},
     "output_type": "execute_result"
    }
   ],
   "source": [
    "len(data_merge['end station id'].unique())"
   ]
  },
  {
   "cell_type": "markdown",
   "metadata": {},
   "source": [
    "Next, we also need to get rid of the unnecessary features coming from the pickups file, including the start station id since they are all from the same station now."
   ]
  },
  {
   "cell_type": "code",
   "execution_count": 616,
   "metadata": {},
   "outputs": [
    {
     "data": {
      "text/plain": [
       "Index(['tripduration', 'starttime', 'stoptime', 'start station id',\n",
       "       'start station name', 'start station latitude',\n",
       "       'start station longitude', 'end station id', 'end station name',\n",
       "       'end station latitude', 'end station longitude', 'bikeid', 'usertype',\n",
       "       'postal code', 'is_Holiday', 'datetime', 'temp', 'feelslike',\n",
       "       'humidity', 'precip', 'snow', 'snowdepth', 'windspeed', 'cloudcover',\n",
       "       'visibility', 'icon'],\n",
       "      dtype='object')"
      ]
     },
     "execution_count": 616,
     "metadata": {},
     "output_type": "execute_result"
    }
   ],
   "source": [
    "data_merge.columns"
   ]
  },
  {
   "cell_type": "code",
   "execution_count": 617,
   "metadata": {},
   "outputs": [],
   "source": [
    "data_merge = data_merge[data_merge['start station id']==maxim]\n",
    "data_nn = data_merge.drop(columns=['start station id',\n",
    "       'start station name', 'start station latitude',\n",
    "       'start station longitude','end station name',\n",
    "       'end station latitude', 'end station longitude','bikeid','postal code', 'stoptime'])"
   ]
  },
  {
   "cell_type": "markdown",
   "metadata": {},
   "source": [
    "Our data is looking like this at the moment. There are obvious steps to be taken before training of any kind can begin to occur: \n",
    "First of all, the time in which those pickups happen can not be a simple date since it can not be picked up by models. Therefore, we have decided to transform the time of the pickup into a new variable expressing the time of day in which the pickup happened. The division will happen every six hours into morning, afternoon, evening and night. These are really valuable information and more importantly, usable by getting their dummies.\n",
    "Once this is done, both columns indicating the date and time of the pickup can be dropped from the dataframe."
   ]
  },
  {
   "cell_type": "code",
   "execution_count": 618,
   "metadata": {},
   "outputs": [
    {
     "name": "stderr",
     "output_type": "stream",
     "text": [
      "C:\\Users\\mirun\\AppData\\Local\\Temp\\ipykernel_6700\\2603112746.py:4: SettingWithCopyWarning: \n",
      "A value is trying to be set on a copy of a slice from a DataFrame\n",
      "\n",
      "See the caveats in the documentation: https://pandas.pydata.org/pandas-docs/stable/user_guide/indexing.html#returning-a-view-versus-a-copy\n",
      "  data_nn['time_of_day'].iloc[i] = 'morning'\n"
     ]
    }
   ],
   "source": [
    "data_nn['time_of_day'] = 0\n",
    "for i in range(len(data_nn)):\n",
    "    if (data_nn['starttime'].iloc[i].hour >= 7) & (data_nn['starttime'].iloc[i].hour < 12):\n",
    "        data_nn['time_of_day'].iloc[i] = 'morning'\n",
    "    elif (data_nn['starttime'].iloc[i].hour >= 12) & (data_nn['starttime'].iloc[i].hour < 17):\n",
    "        data_nn['time_of_day'].iloc[i] = 'afternoon'\n",
    "    elif (data_nn['starttime'].iloc[i].hour >= 17) & (data_nn['starttime'].iloc[i].hour < 23):\n",
    "        data_nn['time_of_day'].iloc[i] = 'evening'\n",
    "    elif (data_nn['starttime'].iloc[i].hour >= 22) & (data_nn['starttime'].iloc[i].hour < 7):\n",
    "        data_nn['time_of_day'].iloc[i] = 'night'\n"
   ]
  },
  {
   "cell_type": "code",
   "execution_count": 619,
   "metadata": {},
   "outputs": [],
   "source": [
    "data_nn = data_nn.drop(columns=['starttime','datetime'])"
   ]
  },
  {
   "cell_type": "markdown",
   "metadata": {},
   "source": [
    "Second step into getting the data ready for training is using dummy variables to codify those that are not numerical values. The time of day variable has already been discussed, but the icon variable and usertype, which define the general wheather for that day and the type of user (subscriber or customer) respectively, also need to be translated into dummy variables."
   ]
  },
  {
   "cell_type": "code",
   "execution_count": 620,
   "metadata": {},
   "outputs": [],
   "source": [
    "data_nn_dummies = pd.get_dummies(data_nn, columns=['time_of_day', 'icon', 'usertype'])"
   ]
  },
  {
   "cell_type": "code",
   "execution_count": 621,
   "metadata": {},
   "outputs": [],
   "source": [
    "data_nn_dummies_std = data_nn_dummies.copy()"
   ]
  },
  {
   "cell_type": "code",
   "execution_count": 622,
   "metadata": {},
   "outputs": [
    {
     "data": {
      "text/plain": [
       "Index(['tripduration', 'end station id', 'is_Holiday', 'temp', 'feelslike',\n",
       "       'humidity', 'precip', 'snow', 'snowdepth', 'windspeed', 'cloudcover',\n",
       "       'visibility', 'time_of_day_0', 'time_of_day_afternoon',\n",
       "       'time_of_day_evening', 'time_of_day_morning', 'icon_clear-day',\n",
       "       'icon_cloudy', 'icon_partly-cloudy-day', 'icon_rain', 'icon_snow',\n",
       "       'usertype_Customer', 'usertype_Subscriber'],\n",
       "      dtype='object')"
      ]
     },
     "execution_count": 622,
     "metadata": {},
     "output_type": "execute_result"
    }
   ],
   "source": [
    "data_nn_dummies_std.columns"
   ]
  },
  {
   "cell_type": "markdown",
   "metadata": {},
   "source": [
    "Since most of our numerical features are using different scales, we need to standardize these columns. \n",
    "It is also important to remark that our dummy variables have not been standardized, since this would defeat the purpose of having binary values for each label."
   ]
  },
  {
   "cell_type": "code",
   "execution_count": 623,
   "metadata": {},
   "outputs": [],
   "source": [
    "col_std = [ 'temp', 'feelslike','tripduration',\n",
    "       'humidity', 'precip', 'snow', 'snowdepth',\n",
    "       'windspeed', 'cloudcover', 'visibility']\n",
    "\n",
    "data_nn_dummies_std[col_std]= (data_nn_dummies_std[col_std] - data_nn_dummies_std[col_std].mean()) / data_nn_dummies_std[col_std].std()"
   ]
  },
  {
   "cell_type": "code",
   "execution_count": 624,
   "metadata": {},
   "outputs": [
    {
     "data": {
      "text/html": [
       "<div>\n",
       "<style scoped>\n",
       "    .dataframe tbody tr th:only-of-type {\n",
       "        vertical-align: middle;\n",
       "    }\n",
       "\n",
       "    .dataframe tbody tr th {\n",
       "        vertical-align: top;\n",
       "    }\n",
       "\n",
       "    .dataframe thead th {\n",
       "        text-align: right;\n",
       "    }\n",
       "</style>\n",
       "<table border=\"1\" class=\"dataframe\">\n",
       "  <thead>\n",
       "    <tr style=\"text-align: right;\">\n",
       "      <th></th>\n",
       "      <th>tripduration</th>\n",
       "      <th>end station id</th>\n",
       "      <th>is_Holiday</th>\n",
       "      <th>temp</th>\n",
       "      <th>feelslike</th>\n",
       "      <th>humidity</th>\n",
       "      <th>precip</th>\n",
       "      <th>snow</th>\n",
       "      <th>snowdepth</th>\n",
       "      <th>windspeed</th>\n",
       "      <th>...</th>\n",
       "      <th>time_of_day_afternoon</th>\n",
       "      <th>time_of_day_evening</th>\n",
       "      <th>time_of_day_morning</th>\n",
       "      <th>icon_clear-day</th>\n",
       "      <th>icon_cloudy</th>\n",
       "      <th>icon_partly-cloudy-day</th>\n",
       "      <th>icon_rain</th>\n",
       "      <th>icon_snow</th>\n",
       "      <th>usertype_Customer</th>\n",
       "      <th>usertype_Subscriber</th>\n",
       "    </tr>\n",
       "  </thead>\n",
       "  <tbody>\n",
       "    <tr>\n",
       "      <th>62</th>\n",
       "      <td>0.211380</td>\n",
       "      <td>67</td>\n",
       "      <td>1</td>\n",
       "      <td>-0.681427</td>\n",
       "      <td>-0.528321</td>\n",
       "      <td>2.485019</td>\n",
       "      <td>-0.041146</td>\n",
       "      <td>-0.154192</td>\n",
       "      <td>-0.298797</td>\n",
       "      <td>-2.446846</td>\n",
       "      <td>...</td>\n",
       "      <td>0</td>\n",
       "      <td>0</td>\n",
       "      <td>0</td>\n",
       "      <td>0</td>\n",
       "      <td>0</td>\n",
       "      <td>0</td>\n",
       "      <td>1</td>\n",
       "      <td>0</td>\n",
       "      <td>0</td>\n",
       "      <td>1</td>\n",
       "    </tr>\n",
       "    <tr>\n",
       "      <th>75</th>\n",
       "      <td>-0.040562</td>\n",
       "      <td>139</td>\n",
       "      <td>1</td>\n",
       "      <td>-0.681427</td>\n",
       "      <td>-0.528321</td>\n",
       "      <td>2.485019</td>\n",
       "      <td>-0.041146</td>\n",
       "      <td>-0.154192</td>\n",
       "      <td>-0.298797</td>\n",
       "      <td>-2.446846</td>\n",
       "      <td>...</td>\n",
       "      <td>0</td>\n",
       "      <td>0</td>\n",
       "      <td>0</td>\n",
       "      <td>0</td>\n",
       "      <td>0</td>\n",
       "      <td>0</td>\n",
       "      <td>1</td>\n",
       "      <td>0</td>\n",
       "      <td>0</td>\n",
       "      <td>1</td>\n",
       "    </tr>\n",
       "    <tr>\n",
       "      <th>76</th>\n",
       "      <td>-0.041600</td>\n",
       "      <td>139</td>\n",
       "      <td>1</td>\n",
       "      <td>-0.681427</td>\n",
       "      <td>-0.528321</td>\n",
       "      <td>2.485019</td>\n",
       "      <td>-0.041146</td>\n",
       "      <td>-0.154192</td>\n",
       "      <td>-0.298797</td>\n",
       "      <td>-2.446846</td>\n",
       "      <td>...</td>\n",
       "      <td>0</td>\n",
       "      <td>0</td>\n",
       "      <td>0</td>\n",
       "      <td>0</td>\n",
       "      <td>0</td>\n",
       "      <td>0</td>\n",
       "      <td>1</td>\n",
       "      <td>0</td>\n",
       "      <td>0</td>\n",
       "      <td>1</td>\n",
       "    </tr>\n",
       "    <tr>\n",
       "      <th>83</th>\n",
       "      <td>-0.026326</td>\n",
       "      <td>55</td>\n",
       "      <td>1</td>\n",
       "      <td>-0.681427</td>\n",
       "      <td>-0.528321</td>\n",
       "      <td>2.485019</td>\n",
       "      <td>-0.041146</td>\n",
       "      <td>-0.154192</td>\n",
       "      <td>-0.298797</td>\n",
       "      <td>-2.446846</td>\n",
       "      <td>...</td>\n",
       "      <td>0</td>\n",
       "      <td>0</td>\n",
       "      <td>0</td>\n",
       "      <td>0</td>\n",
       "      <td>0</td>\n",
       "      <td>0</td>\n",
       "      <td>1</td>\n",
       "      <td>0</td>\n",
       "      <td>0</td>\n",
       "      <td>1</td>\n",
       "    </tr>\n",
       "    <tr>\n",
       "      <th>136</th>\n",
       "      <td>0.099126</td>\n",
       "      <td>36</td>\n",
       "      <td>1</td>\n",
       "      <td>-0.681427</td>\n",
       "      <td>-0.528321</td>\n",
       "      <td>2.485019</td>\n",
       "      <td>-0.041146</td>\n",
       "      <td>-0.154192</td>\n",
       "      <td>-0.298797</td>\n",
       "      <td>-2.446846</td>\n",
       "      <td>...</td>\n",
       "      <td>0</td>\n",
       "      <td>0</td>\n",
       "      <td>0</td>\n",
       "      <td>0</td>\n",
       "      <td>0</td>\n",
       "      <td>0</td>\n",
       "      <td>1</td>\n",
       "      <td>0</td>\n",
       "      <td>0</td>\n",
       "      <td>1</td>\n",
       "    </tr>\n",
       "    <tr>\n",
       "      <th>...</th>\n",
       "      <td>...</td>\n",
       "      <td>...</td>\n",
       "      <td>...</td>\n",
       "      <td>...</td>\n",
       "      <td>...</td>\n",
       "      <td>...</td>\n",
       "      <td>...</td>\n",
       "      <td>...</td>\n",
       "      <td>...</td>\n",
       "      <td>...</td>\n",
       "      <td>...</td>\n",
       "      <td>...</td>\n",
       "      <td>...</td>\n",
       "      <td>...</td>\n",
       "      <td>...</td>\n",
       "      <td>...</td>\n",
       "      <td>...</td>\n",
       "      <td>...</td>\n",
       "      <td>...</td>\n",
       "      <td>...</td>\n",
       "      <td>...</td>\n",
       "    </tr>\n",
       "    <tr>\n",
       "      <th>2305150</th>\n",
       "      <td>-0.044269</td>\n",
       "      <td>42</td>\n",
       "      <td>0</td>\n",
       "      <td>1.060446</td>\n",
       "      <td>0.989508</td>\n",
       "      <td>0.051318</td>\n",
       "      <td>1.915244</td>\n",
       "      <td>-0.154192</td>\n",
       "      <td>-0.298797</td>\n",
       "      <td>0.280997</td>\n",
       "      <td>...</td>\n",
       "      <td>0</td>\n",
       "      <td>0</td>\n",
       "      <td>0</td>\n",
       "      <td>0</td>\n",
       "      <td>0</td>\n",
       "      <td>0</td>\n",
       "      <td>1</td>\n",
       "      <td>0</td>\n",
       "      <td>0</td>\n",
       "      <td>1</td>\n",
       "    </tr>\n",
       "    <tr>\n",
       "      <th>2305508</th>\n",
       "      <td>-0.012832</td>\n",
       "      <td>36</td>\n",
       "      <td>0</td>\n",
       "      <td>1.060446</td>\n",
       "      <td>0.989508</td>\n",
       "      <td>0.051318</td>\n",
       "      <td>1.915244</td>\n",
       "      <td>-0.154192</td>\n",
       "      <td>-0.298797</td>\n",
       "      <td>0.280997</td>\n",
       "      <td>...</td>\n",
       "      <td>0</td>\n",
       "      <td>0</td>\n",
       "      <td>0</td>\n",
       "      <td>0</td>\n",
       "      <td>0</td>\n",
       "      <td>0</td>\n",
       "      <td>1</td>\n",
       "      <td>0</td>\n",
       "      <td>0</td>\n",
       "      <td>1</td>\n",
       "    </tr>\n",
       "    <tr>\n",
       "      <th>2305566</th>\n",
       "      <td>-0.063398</td>\n",
       "      <td>179</td>\n",
       "      <td>0</td>\n",
       "      <td>1.060446</td>\n",
       "      <td>0.989508</td>\n",
       "      <td>0.051318</td>\n",
       "      <td>1.915244</td>\n",
       "      <td>-0.154192</td>\n",
       "      <td>-0.298797</td>\n",
       "      <td>0.280997</td>\n",
       "      <td>...</td>\n",
       "      <td>0</td>\n",
       "      <td>0</td>\n",
       "      <td>0</td>\n",
       "      <td>0</td>\n",
       "      <td>0</td>\n",
       "      <td>0</td>\n",
       "      <td>1</td>\n",
       "      <td>0</td>\n",
       "      <td>0</td>\n",
       "      <td>1</td>\n",
       "    </tr>\n",
       "    <tr>\n",
       "      <th>2305661</th>\n",
       "      <td>-0.064881</td>\n",
       "      <td>53</td>\n",
       "      <td>0</td>\n",
       "      <td>1.060446</td>\n",
       "      <td>0.989508</td>\n",
       "      <td>0.051318</td>\n",
       "      <td>1.915244</td>\n",
       "      <td>-0.154192</td>\n",
       "      <td>-0.298797</td>\n",
       "      <td>0.280997</td>\n",
       "      <td>...</td>\n",
       "      <td>0</td>\n",
       "      <td>0</td>\n",
       "      <td>0</td>\n",
       "      <td>0</td>\n",
       "      <td>0</td>\n",
       "      <td>0</td>\n",
       "      <td>1</td>\n",
       "      <td>0</td>\n",
       "      <td>0</td>\n",
       "      <td>1</td>\n",
       "    </tr>\n",
       "    <tr>\n",
       "      <th>2305730</th>\n",
       "      <td>-0.028551</td>\n",
       "      <td>84</td>\n",
       "      <td>0</td>\n",
       "      <td>1.060446</td>\n",
       "      <td>0.989508</td>\n",
       "      <td>0.051318</td>\n",
       "      <td>1.915244</td>\n",
       "      <td>-0.154192</td>\n",
       "      <td>-0.298797</td>\n",
       "      <td>0.280997</td>\n",
       "      <td>...</td>\n",
       "      <td>0</td>\n",
       "      <td>0</td>\n",
       "      <td>0</td>\n",
       "      <td>0</td>\n",
       "      <td>0</td>\n",
       "      <td>0</td>\n",
       "      <td>1</td>\n",
       "      <td>0</td>\n",
       "      <td>0</td>\n",
       "      <td>1</td>\n",
       "    </tr>\n",
       "  </tbody>\n",
       "</table>\n",
       "<p>33460 rows × 23 columns</p>\n",
       "</div>"
      ],
      "text/plain": [
       "         tripduration  end station id  is_Holiday      temp  feelslike  \\\n",
       "62           0.211380              67           1 -0.681427  -0.528321   \n",
       "75          -0.040562             139           1 -0.681427  -0.528321   \n",
       "76          -0.041600             139           1 -0.681427  -0.528321   \n",
       "83          -0.026326              55           1 -0.681427  -0.528321   \n",
       "136          0.099126              36           1 -0.681427  -0.528321   \n",
       "...               ...             ...         ...       ...        ...   \n",
       "2305150     -0.044269              42           0  1.060446   0.989508   \n",
       "2305508     -0.012832              36           0  1.060446   0.989508   \n",
       "2305566     -0.063398             179           0  1.060446   0.989508   \n",
       "2305661     -0.064881              53           0  1.060446   0.989508   \n",
       "2305730     -0.028551              84           0  1.060446   0.989508   \n",
       "\n",
       "         humidity    precip      snow  snowdepth  windspeed  ...  \\\n",
       "62       2.485019 -0.041146 -0.154192  -0.298797  -2.446846  ...   \n",
       "75       2.485019 -0.041146 -0.154192  -0.298797  -2.446846  ...   \n",
       "76       2.485019 -0.041146 -0.154192  -0.298797  -2.446846  ...   \n",
       "83       2.485019 -0.041146 -0.154192  -0.298797  -2.446846  ...   \n",
       "136      2.485019 -0.041146 -0.154192  -0.298797  -2.446846  ...   \n",
       "...           ...       ...       ...        ...        ...  ...   \n",
       "2305150  0.051318  1.915244 -0.154192  -0.298797   0.280997  ...   \n",
       "2305508  0.051318  1.915244 -0.154192  -0.298797   0.280997  ...   \n",
       "2305566  0.051318  1.915244 -0.154192  -0.298797   0.280997  ...   \n",
       "2305661  0.051318  1.915244 -0.154192  -0.298797   0.280997  ...   \n",
       "2305730  0.051318  1.915244 -0.154192  -0.298797   0.280997  ...   \n",
       "\n",
       "         time_of_day_afternoon  time_of_day_evening  time_of_day_morning  \\\n",
       "62                           0                    0                    0   \n",
       "75                           0                    0                    0   \n",
       "76                           0                    0                    0   \n",
       "83                           0                    0                    0   \n",
       "136                          0                    0                    0   \n",
       "...                        ...                  ...                  ...   \n",
       "2305150                      0                    0                    0   \n",
       "2305508                      0                    0                    0   \n",
       "2305566                      0                    0                    0   \n",
       "2305661                      0                    0                    0   \n",
       "2305730                      0                    0                    0   \n",
       "\n",
       "         icon_clear-day  icon_cloudy  icon_partly-cloudy-day  icon_rain  \\\n",
       "62                    0            0                       0          1   \n",
       "75                    0            0                       0          1   \n",
       "76                    0            0                       0          1   \n",
       "83                    0            0                       0          1   \n",
       "136                   0            0                       0          1   \n",
       "...                 ...          ...                     ...        ...   \n",
       "2305150               0            0                       0          1   \n",
       "2305508               0            0                       0          1   \n",
       "2305566               0            0                       0          1   \n",
       "2305661               0            0                       0          1   \n",
       "2305730               0            0                       0          1   \n",
       "\n",
       "         icon_snow  usertype_Customer  usertype_Subscriber  \n",
       "62               0                  0                    1  \n",
       "75               0                  0                    1  \n",
       "76               0                  0                    1  \n",
       "83               0                  0                    1  \n",
       "136              0                  0                    1  \n",
       "...            ...                ...                  ...  \n",
       "2305150          0                  0                    1  \n",
       "2305508          0                  0                    1  \n",
       "2305566          0                  0                    1  \n",
       "2305661          0                  0                    1  \n",
       "2305730          0                  0                    1  \n",
       "\n",
       "[33460 rows x 23 columns]"
      ]
     },
     "execution_count": 624,
     "metadata": {},
     "output_type": "execute_result"
    }
   ],
   "source": [
    "data_nn_dummies_std"
   ]
  },
  {
   "cell_type": "markdown",
   "metadata": {},
   "source": [
    "This classification problem is quite different form the ones seen in class before, since it is a multiclass classification problem. As such, even though our target variable (end station id) is an integer, it needs to be translated into a categorical variable. In other words, each station id will be converted into a new value, also an integer, so that the network can interpret them."
   ]
  },
  {
   "cell_type": "code",
   "execution_count": 625,
   "metadata": {},
   "outputs": [],
   "source": [
    "uniques = (data_nn_dummies_std['end station id'].unique()).tolist()\n",
    "uniques.sort()\n",
    "data_nn_dummies_std['categorical_target'] = [uniques.index(data_nn_dummies_std['end station id'].iloc[i]) for i in range(len(data_nn_dummies_std))]\n"
   ]
  },
  {
   "cell_type": "code",
   "execution_count": 626,
   "metadata": {},
   "outputs": [],
   "source": [
    "data_nn_dummies_std = data_nn_dummies_std.drop(columns=['end station id'])"
   ]
  },
  {
   "cell_type": "code",
   "execution_count": 627,
   "metadata": {},
   "outputs": [],
   "source": [
    "target = data_nn_dummies_std['categorical_target']\n",
    "data_nn_dummies_std = data_nn_dummies_std.drop(columns='categorical_target')\n"
   ]
  },
  {
   "cell_type": "code",
   "execution_count": 628,
   "metadata": {},
   "outputs": [
    {
     "data": {
      "text/html": [
       "<div>\n",
       "<style scoped>\n",
       "    .dataframe tbody tr th:only-of-type {\n",
       "        vertical-align: middle;\n",
       "    }\n",
       "\n",
       "    .dataframe tbody tr th {\n",
       "        vertical-align: top;\n",
       "    }\n",
       "\n",
       "    .dataframe thead th {\n",
       "        text-align: right;\n",
       "    }\n",
       "</style>\n",
       "<table border=\"1\" class=\"dataframe\">\n",
       "  <thead>\n",
       "    <tr style=\"text-align: right;\">\n",
       "      <th></th>\n",
       "      <th>tripduration</th>\n",
       "      <th>is_Holiday</th>\n",
       "      <th>temp</th>\n",
       "      <th>feelslike</th>\n",
       "      <th>humidity</th>\n",
       "      <th>precip</th>\n",
       "      <th>snow</th>\n",
       "      <th>snowdepth</th>\n",
       "      <th>windspeed</th>\n",
       "      <th>cloudcover</th>\n",
       "      <th>...</th>\n",
       "      <th>time_of_day_afternoon</th>\n",
       "      <th>time_of_day_evening</th>\n",
       "      <th>time_of_day_morning</th>\n",
       "      <th>icon_clear-day</th>\n",
       "      <th>icon_cloudy</th>\n",
       "      <th>icon_partly-cloudy-day</th>\n",
       "      <th>icon_rain</th>\n",
       "      <th>icon_snow</th>\n",
       "      <th>usertype_Customer</th>\n",
       "      <th>usertype_Subscriber</th>\n",
       "    </tr>\n",
       "  </thead>\n",
       "  <tbody>\n",
       "    <tr>\n",
       "      <th>0</th>\n",
       "      <td>0.211380</td>\n",
       "      <td>1</td>\n",
       "      <td>-0.681427</td>\n",
       "      <td>-0.528321</td>\n",
       "      <td>2.485019</td>\n",
       "      <td>-0.041146</td>\n",
       "      <td>-0.154192</td>\n",
       "      <td>-0.298797</td>\n",
       "      <td>-2.446846</td>\n",
       "      <td>1.619306</td>\n",
       "      <td>...</td>\n",
       "      <td>0</td>\n",
       "      <td>0</td>\n",
       "      <td>0</td>\n",
       "      <td>0</td>\n",
       "      <td>0</td>\n",
       "      <td>0</td>\n",
       "      <td>1</td>\n",
       "      <td>0</td>\n",
       "      <td>0</td>\n",
       "      <td>1</td>\n",
       "    </tr>\n",
       "    <tr>\n",
       "      <th>1</th>\n",
       "      <td>-0.040562</td>\n",
       "      <td>1</td>\n",
       "      <td>-0.681427</td>\n",
       "      <td>-0.528321</td>\n",
       "      <td>2.485019</td>\n",
       "      <td>-0.041146</td>\n",
       "      <td>-0.154192</td>\n",
       "      <td>-0.298797</td>\n",
       "      <td>-2.446846</td>\n",
       "      <td>1.619306</td>\n",
       "      <td>...</td>\n",
       "      <td>0</td>\n",
       "      <td>0</td>\n",
       "      <td>0</td>\n",
       "      <td>0</td>\n",
       "      <td>0</td>\n",
       "      <td>0</td>\n",
       "      <td>1</td>\n",
       "      <td>0</td>\n",
       "      <td>0</td>\n",
       "      <td>1</td>\n",
       "    </tr>\n",
       "    <tr>\n",
       "      <th>2</th>\n",
       "      <td>-0.041600</td>\n",
       "      <td>1</td>\n",
       "      <td>-0.681427</td>\n",
       "      <td>-0.528321</td>\n",
       "      <td>2.485019</td>\n",
       "      <td>-0.041146</td>\n",
       "      <td>-0.154192</td>\n",
       "      <td>-0.298797</td>\n",
       "      <td>-2.446846</td>\n",
       "      <td>1.619306</td>\n",
       "      <td>...</td>\n",
       "      <td>0</td>\n",
       "      <td>0</td>\n",
       "      <td>0</td>\n",
       "      <td>0</td>\n",
       "      <td>0</td>\n",
       "      <td>0</td>\n",
       "      <td>1</td>\n",
       "      <td>0</td>\n",
       "      <td>0</td>\n",
       "      <td>1</td>\n",
       "    </tr>\n",
       "    <tr>\n",
       "      <th>3</th>\n",
       "      <td>-0.026326</td>\n",
       "      <td>1</td>\n",
       "      <td>-0.681427</td>\n",
       "      <td>-0.528321</td>\n",
       "      <td>2.485019</td>\n",
       "      <td>-0.041146</td>\n",
       "      <td>-0.154192</td>\n",
       "      <td>-0.298797</td>\n",
       "      <td>-2.446846</td>\n",
       "      <td>1.619306</td>\n",
       "      <td>...</td>\n",
       "      <td>0</td>\n",
       "      <td>0</td>\n",
       "      <td>0</td>\n",
       "      <td>0</td>\n",
       "      <td>0</td>\n",
       "      <td>0</td>\n",
       "      <td>1</td>\n",
       "      <td>0</td>\n",
       "      <td>0</td>\n",
       "      <td>1</td>\n",
       "    </tr>\n",
       "    <tr>\n",
       "      <th>4</th>\n",
       "      <td>0.099126</td>\n",
       "      <td>1</td>\n",
       "      <td>-0.681427</td>\n",
       "      <td>-0.528321</td>\n",
       "      <td>2.485019</td>\n",
       "      <td>-0.041146</td>\n",
       "      <td>-0.154192</td>\n",
       "      <td>-0.298797</td>\n",
       "      <td>-2.446846</td>\n",
       "      <td>1.619306</td>\n",
       "      <td>...</td>\n",
       "      <td>0</td>\n",
       "      <td>0</td>\n",
       "      <td>0</td>\n",
       "      <td>0</td>\n",
       "      <td>0</td>\n",
       "      <td>0</td>\n",
       "      <td>1</td>\n",
       "      <td>0</td>\n",
       "      <td>0</td>\n",
       "      <td>1</td>\n",
       "    </tr>\n",
       "    <tr>\n",
       "      <th>...</th>\n",
       "      <td>...</td>\n",
       "      <td>...</td>\n",
       "      <td>...</td>\n",
       "      <td>...</td>\n",
       "      <td>...</td>\n",
       "      <td>...</td>\n",
       "      <td>...</td>\n",
       "      <td>...</td>\n",
       "      <td>...</td>\n",
       "      <td>...</td>\n",
       "      <td>...</td>\n",
       "      <td>...</td>\n",
       "      <td>...</td>\n",
       "      <td>...</td>\n",
       "      <td>...</td>\n",
       "      <td>...</td>\n",
       "      <td>...</td>\n",
       "      <td>...</td>\n",
       "      <td>...</td>\n",
       "      <td>...</td>\n",
       "      <td>...</td>\n",
       "    </tr>\n",
       "    <tr>\n",
       "      <th>33455</th>\n",
       "      <td>-0.044269</td>\n",
       "      <td>0</td>\n",
       "      <td>1.060446</td>\n",
       "      <td>0.989508</td>\n",
       "      <td>0.051318</td>\n",
       "      <td>1.915244</td>\n",
       "      <td>-0.154192</td>\n",
       "      <td>-0.298797</td>\n",
       "      <td>0.280997</td>\n",
       "      <td>-0.703814</td>\n",
       "      <td>...</td>\n",
       "      <td>0</td>\n",
       "      <td>0</td>\n",
       "      <td>0</td>\n",
       "      <td>0</td>\n",
       "      <td>0</td>\n",
       "      <td>0</td>\n",
       "      <td>1</td>\n",
       "      <td>0</td>\n",
       "      <td>0</td>\n",
       "      <td>1</td>\n",
       "    </tr>\n",
       "    <tr>\n",
       "      <th>33456</th>\n",
       "      <td>-0.012832</td>\n",
       "      <td>0</td>\n",
       "      <td>1.060446</td>\n",
       "      <td>0.989508</td>\n",
       "      <td>0.051318</td>\n",
       "      <td>1.915244</td>\n",
       "      <td>-0.154192</td>\n",
       "      <td>-0.298797</td>\n",
       "      <td>0.280997</td>\n",
       "      <td>-0.703814</td>\n",
       "      <td>...</td>\n",
       "      <td>0</td>\n",
       "      <td>0</td>\n",
       "      <td>0</td>\n",
       "      <td>0</td>\n",
       "      <td>0</td>\n",
       "      <td>0</td>\n",
       "      <td>1</td>\n",
       "      <td>0</td>\n",
       "      <td>0</td>\n",
       "      <td>1</td>\n",
       "    </tr>\n",
       "    <tr>\n",
       "      <th>33457</th>\n",
       "      <td>-0.063398</td>\n",
       "      <td>0</td>\n",
       "      <td>1.060446</td>\n",
       "      <td>0.989508</td>\n",
       "      <td>0.051318</td>\n",
       "      <td>1.915244</td>\n",
       "      <td>-0.154192</td>\n",
       "      <td>-0.298797</td>\n",
       "      <td>0.280997</td>\n",
       "      <td>-0.703814</td>\n",
       "      <td>...</td>\n",
       "      <td>0</td>\n",
       "      <td>0</td>\n",
       "      <td>0</td>\n",
       "      <td>0</td>\n",
       "      <td>0</td>\n",
       "      <td>0</td>\n",
       "      <td>1</td>\n",
       "      <td>0</td>\n",
       "      <td>0</td>\n",
       "      <td>1</td>\n",
       "    </tr>\n",
       "    <tr>\n",
       "      <th>33458</th>\n",
       "      <td>-0.064881</td>\n",
       "      <td>0</td>\n",
       "      <td>1.060446</td>\n",
       "      <td>0.989508</td>\n",
       "      <td>0.051318</td>\n",
       "      <td>1.915244</td>\n",
       "      <td>-0.154192</td>\n",
       "      <td>-0.298797</td>\n",
       "      <td>0.280997</td>\n",
       "      <td>-0.703814</td>\n",
       "      <td>...</td>\n",
       "      <td>0</td>\n",
       "      <td>0</td>\n",
       "      <td>0</td>\n",
       "      <td>0</td>\n",
       "      <td>0</td>\n",
       "      <td>0</td>\n",
       "      <td>1</td>\n",
       "      <td>0</td>\n",
       "      <td>0</td>\n",
       "      <td>1</td>\n",
       "    </tr>\n",
       "    <tr>\n",
       "      <th>33459</th>\n",
       "      <td>-0.028551</td>\n",
       "      <td>0</td>\n",
       "      <td>1.060446</td>\n",
       "      <td>0.989508</td>\n",
       "      <td>0.051318</td>\n",
       "      <td>1.915244</td>\n",
       "      <td>-0.154192</td>\n",
       "      <td>-0.298797</td>\n",
       "      <td>0.280997</td>\n",
       "      <td>-0.703814</td>\n",
       "      <td>...</td>\n",
       "      <td>0</td>\n",
       "      <td>0</td>\n",
       "      <td>0</td>\n",
       "      <td>0</td>\n",
       "      <td>0</td>\n",
       "      <td>0</td>\n",
       "      <td>1</td>\n",
       "      <td>0</td>\n",
       "      <td>0</td>\n",
       "      <td>1</td>\n",
       "    </tr>\n",
       "  </tbody>\n",
       "</table>\n",
       "<p>33460 rows × 22 columns</p>\n",
       "</div>"
      ],
      "text/plain": [
       "       tripduration  is_Holiday      temp  feelslike  humidity    precip  \\\n",
       "0          0.211380           1 -0.681427  -0.528321  2.485019 -0.041146   \n",
       "1         -0.040562           1 -0.681427  -0.528321  2.485019 -0.041146   \n",
       "2         -0.041600           1 -0.681427  -0.528321  2.485019 -0.041146   \n",
       "3         -0.026326           1 -0.681427  -0.528321  2.485019 -0.041146   \n",
       "4          0.099126           1 -0.681427  -0.528321  2.485019 -0.041146   \n",
       "...             ...         ...       ...        ...       ...       ...   \n",
       "33455     -0.044269           0  1.060446   0.989508  0.051318  1.915244   \n",
       "33456     -0.012832           0  1.060446   0.989508  0.051318  1.915244   \n",
       "33457     -0.063398           0  1.060446   0.989508  0.051318  1.915244   \n",
       "33458     -0.064881           0  1.060446   0.989508  0.051318  1.915244   \n",
       "33459     -0.028551           0  1.060446   0.989508  0.051318  1.915244   \n",
       "\n",
       "           snow  snowdepth  windspeed  cloudcover  ...  time_of_day_afternoon  \\\n",
       "0     -0.154192  -0.298797  -2.446846    1.619306  ...                      0   \n",
       "1     -0.154192  -0.298797  -2.446846    1.619306  ...                      0   \n",
       "2     -0.154192  -0.298797  -2.446846    1.619306  ...                      0   \n",
       "3     -0.154192  -0.298797  -2.446846    1.619306  ...                      0   \n",
       "4     -0.154192  -0.298797  -2.446846    1.619306  ...                      0   \n",
       "...         ...        ...        ...         ...  ...                    ...   \n",
       "33455 -0.154192  -0.298797   0.280997   -0.703814  ...                      0   \n",
       "33456 -0.154192  -0.298797   0.280997   -0.703814  ...                      0   \n",
       "33457 -0.154192  -0.298797   0.280997   -0.703814  ...                      0   \n",
       "33458 -0.154192  -0.298797   0.280997   -0.703814  ...                      0   \n",
       "33459 -0.154192  -0.298797   0.280997   -0.703814  ...                      0   \n",
       "\n",
       "       time_of_day_evening  time_of_day_morning  icon_clear-day  icon_cloudy  \\\n",
       "0                        0                    0               0            0   \n",
       "1                        0                    0               0            0   \n",
       "2                        0                    0               0            0   \n",
       "3                        0                    0               0            0   \n",
       "4                        0                    0               0            0   \n",
       "...                    ...                  ...             ...          ...   \n",
       "33455                    0                    0               0            0   \n",
       "33456                    0                    0               0            0   \n",
       "33457                    0                    0               0            0   \n",
       "33458                    0                    0               0            0   \n",
       "33459                    0                    0               0            0   \n",
       "\n",
       "       icon_partly-cloudy-day  icon_rain  icon_snow  usertype_Customer  \\\n",
       "0                           0          1          0                  0   \n",
       "1                           0          1          0                  0   \n",
       "2                           0          1          0                  0   \n",
       "3                           0          1          0                  0   \n",
       "4                           0          1          0                  0   \n",
       "...                       ...        ...        ...                ...   \n",
       "33455                       0          1          0                  0   \n",
       "33456                       0          1          0                  0   \n",
       "33457                       0          1          0                  0   \n",
       "33458                       0          1          0                  0   \n",
       "33459                       0          1          0                  0   \n",
       "\n",
       "       usertype_Subscriber  \n",
       "0                        1  \n",
       "1                        1  \n",
       "2                        1  \n",
       "3                        1  \n",
       "4                        1  \n",
       "...                    ...  \n",
       "33455                    1  \n",
       "33456                    1  \n",
       "33457                    1  \n",
       "33458                    1  \n",
       "33459                    1  \n",
       "\n",
       "[33460 rows x 22 columns]"
      ]
     },
     "execution_count": 628,
     "metadata": {},
     "output_type": "execute_result"
    }
   ],
   "source": [
    "data_nn_dummies_std = data_nn_dummies_std.reset_index(drop=True)\n",
    "data_nn_dummies_std"
   ]
  },
  {
   "cell_type": "code",
   "execution_count": 629,
   "metadata": {},
   "outputs": [
    {
     "data": {
      "text/plain": [
       "array([ 0,  1,  2,  3,  4,  5,  6,  7,  8,  9, 10, 11, 12, 13, 14, 15, 16,\n",
       "       17, 18, 19, 20, 21, 22, 23, 24, 25, 26, 27, 28, 29, 30, 31, 32, 33,\n",
       "       34, 35, 36, 37, 38, 39, 40, 41, 42, 43, 44, 45, 46, 47, 48, 49],\n",
       "      dtype=int64)"
      ]
     },
     "execution_count": 629,
     "metadata": {},
     "output_type": "execute_result"
    }
   ],
   "source": [
    "target_var = target.unique()\n",
    "target_var.sort()\n",
    "target_var"
   ]
  },
  {
   "cell_type": "markdown",
   "metadata": {},
   "source": [
    "As you can see, we have achieved our goal of converting the target variable into its own categorical labels, ranging from 0 with the length of the list of end stations."
   ]
  },
  {
   "cell_type": "markdown",
   "metadata": {},
   "source": [
    "Finally, the data is ready to be split into training, validation and testing splits"
   ]
  },
  {
   "cell_type": "code",
   "execution_count": 630,
   "metadata": {},
   "outputs": [
    {
     "name": "stderr",
     "output_type": "stream",
     "text": [
      "C:\\Users\\mirun\\AppData\\Local\\Temp\\ipykernel_6700\\2643619492.py:4: FutureWarning: The behavior of `series[i:j]` with an integer-dtype index is deprecated. In a future version, this will be treated as *label-based* indexing, consistent with e.g. `series[i]` lookups. To retain the old behavior, use `series.iloc[i:j]`. To get the future behavior, use `series.loc[i:j]`.\n",
      "  y_train = target[:split]\n",
      "C:\\Users\\mirun\\AppData\\Local\\Temp\\ipykernel_6700\\2643619492.py:7: FutureWarning: The behavior of `series[i:j]` with an integer-dtype index is deprecated. In a future version, this will be treated as *label-based* indexing, consistent with e.g. `series[i]` lookups. To retain the old behavior, use `series.iloc[i:j]`. To get the future behavior, use `series.loc[i:j]`.\n",
      "  y_val = target[split: split_val]\n",
      "C:\\Users\\mirun\\AppData\\Local\\Temp\\ipykernel_6700\\2643619492.py:11: FutureWarning: The behavior of `series[i:j]` with an integer-dtype index is deprecated. In a future version, this will be treated as *label-based* indexing, consistent with e.g. `series[i]` lookups. To retain the old behavior, use `series.iloc[i:j]`. To get the future behavior, use `series.loc[i:j]`.\n",
      "  y_test = target[split_val:]\n"
     ]
    }
   ],
   "source": [
    "split = int(len(data_nn_dummies_std)*0.6)\n",
    "split_val = int(len(data_nn_dummies_std)*0.7)\n",
    "x_train = data_nn_dummies_std[:split]\n",
    "y_train = target[:split]\n",
    "y_train = np.asarray(y_train).astype('float32').reshape((-1,1))\n",
    "x_val = data_nn_dummies_std[split: split_val]\n",
    "y_val = target[split: split_val]\n",
    "y_val = np.asarray(y_val).astype('float32').reshape((-1,1))\n",
    "\n",
    "x_test = data_nn_dummies_std[split_val:]\n",
    "y_test = target[split_val:]\n",
    "y_test = np.asarray(y_test).astype('float32').reshape((-1,1))\n"
   ]
  },
  {
   "cell_type": "code",
   "execution_count": 631,
   "metadata": {},
   "outputs": [
    {
     "name": "stdout",
     "output_type": "stream",
     "text": [
      "20076 3346 10038 True\n"
     ]
    }
   ],
   "source": [
    "print(len(x_train), len(x_val) ,len(x_test),len(x_train)+len(x_val)+len(x_test) == len(data_nn_dummies_std))"
   ]
  },
  {
   "cell_type": "code",
   "execution_count": 632,
   "metadata": {},
   "outputs": [
    {
     "data": {
      "text/plain": [
       "50"
      ]
     },
     "execution_count": 632,
     "metadata": {},
     "output_type": "execute_result"
    }
   ],
   "source": [
    "num_features = x_train.shape[1]\n",
    "num_output = len(target.unique())\n",
    "num_output\n"
   ]
  },
  {
   "cell_type": "code",
   "execution_count": 694,
   "metadata": {},
   "outputs": [],
   "source": [
    "import tensorflow as tf\n",
    "tf.keras.backend.clear_session()"
   ]
  },
  {
   "cell_type": "code",
   "execution_count": 695,
   "metadata": {},
   "outputs": [],
   "source": [
    "import keras\n",
    "from keras.models import Sequential\n",
    "from keras.layers import Dense, Dropout\n",
    "\n",
    "# define the keras model\n",
    "model = Sequential()\n",
    "model.add(Dense(300, input_shape = (x_train.shape[1],), activation='relu'))\n",
    "\n",
    "model.add(Dense(150, activation='relu'))\n",
    "model.add(Dense(80, activation='relu'))\n",
    "model.add(Dense(num_output, activation='softmax'))"
   ]
  },
  {
   "cell_type": "code",
   "execution_count": 696,
   "metadata": {},
   "outputs": [
    {
     "name": "stdout",
     "output_type": "stream",
     "text": [
      "Epoch 1/30\n",
      "21/21 [==============================] - 1s 14ms/step - loss: 3.7552 - accuracy: 0.0624 - val_loss: 3.7530 - val_accuracy: 0.0523\n",
      "Epoch 2/30\n",
      "21/21 [==============================] - 0s 7ms/step - loss: 3.6002 - accuracy: 0.0875 - val_loss: 3.7263 - val_accuracy: 0.0652\n",
      "Epoch 3/30\n",
      "21/21 [==============================] - 0s 7ms/step - loss: 3.5554 - accuracy: 0.1042 - val_loss: 3.6815 - val_accuracy: 0.0759\n",
      "Epoch 4/30\n",
      "21/21 [==============================] - 0s 7ms/step - loss: 3.5210 - accuracy: 0.1074 - val_loss: 3.6575 - val_accuracy: 0.0804\n",
      "Epoch 5/30\n",
      "21/21 [==============================] - 0s 7ms/step - loss: 3.4982 - accuracy: 0.1115 - val_loss: 3.6535 - val_accuracy: 0.0876\n",
      "Epoch 6/30\n",
      "21/21 [==============================] - 0s 7ms/step - loss: 3.4793 - accuracy: 0.1178 - val_loss: 3.6357 - val_accuracy: 0.0903\n",
      "Epoch 7/30\n",
      "21/21 [==============================] - 0s 7ms/step - loss: 3.4621 - accuracy: 0.1191 - val_loss: 3.6385 - val_accuracy: 0.0986\n",
      "Epoch 8/30\n",
      "21/21 [==============================] - 0s 7ms/step - loss: 3.4432 - accuracy: 0.1241 - val_loss: 3.6340 - val_accuracy: 0.0983\n",
      "Epoch 9/30\n",
      "21/21 [==============================] - 0s 7ms/step - loss: 3.4230 - accuracy: 0.1293 - val_loss: 3.6270 - val_accuracy: 0.0923\n",
      "Epoch 10/30\n",
      "21/21 [==============================] - 0s 7ms/step - loss: 3.3986 - accuracy: 0.1331 - val_loss: 3.6031 - val_accuracy: 0.1145\n",
      "Epoch 11/30\n",
      "21/21 [==============================] - 0s 7ms/step - loss: 3.3709 - accuracy: 0.1389 - val_loss: 3.5912 - val_accuracy: 0.1201\n",
      "Epoch 12/30\n",
      "21/21 [==============================] - 0s 7ms/step - loss: 3.3353 - accuracy: 0.1432 - val_loss: 3.5604 - val_accuracy: 0.1166\n",
      "Epoch 13/30\n",
      "21/21 [==============================] - 0s 7ms/step - loss: 3.2964 - accuracy: 0.1506 - val_loss: 3.5444 - val_accuracy: 0.1207\n",
      "Epoch 14/30\n",
      "21/21 [==============================] - 0s 7ms/step - loss: 3.2673 - accuracy: 0.1571 - val_loss: 3.5325 - val_accuracy: 0.1127\n",
      "Epoch 15/30\n",
      "21/21 [==============================] - 0s 7ms/step - loss: 3.2352 - accuracy: 0.1561 - val_loss: 3.4933 - val_accuracy: 0.1342\n",
      "Epoch 16/30\n",
      "21/21 [==============================] - 0s 7ms/step - loss: 3.1976 - accuracy: 0.1647 - val_loss: 3.4688 - val_accuracy: 0.1366\n",
      "Epoch 17/30\n",
      "21/21 [==============================] - 0s 7ms/step - loss: 3.1669 - accuracy: 0.1677 - val_loss: 3.4317 - val_accuracy: 0.1369\n",
      "Epoch 18/30\n",
      "21/21 [==============================] - 0s 7ms/step - loss: 3.1327 - accuracy: 0.1702 - val_loss: 3.4099 - val_accuracy: 0.1396\n",
      "Epoch 19/30\n",
      "21/21 [==============================] - 0s 7ms/step - loss: 3.1171 - accuracy: 0.1733 - val_loss: 3.4214 - val_accuracy: 0.1282\n",
      "Epoch 20/30\n",
      "21/21 [==============================] - 0s 7ms/step - loss: 3.0886 - accuracy: 0.1776 - val_loss: 3.3751 - val_accuracy: 0.1491\n",
      "Epoch 21/30\n",
      "21/21 [==============================] - 0s 7ms/step - loss: 3.0665 - accuracy: 0.1803 - val_loss: 3.3782 - val_accuracy: 0.1452\n",
      "Epoch 22/30\n",
      "21/21 [==============================] - 0s 7ms/step - loss: 3.0439 - accuracy: 0.1808 - val_loss: 3.3522 - val_accuracy: 0.1390\n",
      "Epoch 23/30\n",
      "21/21 [==============================] - 0s 7ms/step - loss: 3.0254 - accuracy: 0.1852 - val_loss: 3.3348 - val_accuracy: 0.1452\n",
      "Epoch 24/30\n",
      "21/21 [==============================] - 0s 7ms/step - loss: 2.9982 - accuracy: 0.1903 - val_loss: 3.3105 - val_accuracy: 0.1491\n",
      "Epoch 25/30\n",
      "21/21 [==============================] - 0s 7ms/step - loss: 2.9743 - accuracy: 0.1946 - val_loss: 3.3000 - val_accuracy: 0.1500\n",
      "Epoch 26/30\n",
      "21/21 [==============================] - 0s 7ms/step - loss: 2.9553 - accuracy: 0.1984 - val_loss: 3.3078 - val_accuracy: 0.1554\n",
      "Epoch 27/30\n",
      "21/21 [==============================] - 0s 8ms/step - loss: 2.9442 - accuracy: 0.1999 - val_loss: 3.2994 - val_accuracy: 0.1452\n",
      "Epoch 28/30\n",
      "21/21 [==============================] - 0s 7ms/step - loss: 2.9312 - accuracy: 0.2021 - val_loss: 3.2701 - val_accuracy: 0.1572\n",
      "Epoch 29/30\n",
      "21/21 [==============================] - 0s 7ms/step - loss: 2.9162 - accuracy: 0.2020 - val_loss: 3.2820 - val_accuracy: 0.1620\n",
      "Epoch 30/30\n",
      "21/21 [==============================] - 0s 7ms/step - loss: 2.9135 - accuracy: 0.2034 - val_loss: 3.2813 - val_accuracy: 0.1506\n"
     ]
    },
    {
     "data": {
      "text/plain": [
       "<keras.callbacks.History at 0x2b3127b2f80>"
      ]
     },
     "execution_count": 696,
     "metadata": {},
     "output_type": "execute_result"
    }
   ],
   "source": [
    "model.compile(loss='sparse_categorical_crossentropy', optimizer='adam', metrics=['accuracy'])\n",
    "\n",
    "# fit the keras model on the dataset\n",
    "model.fit(x_train, y_train, epochs=30, batch_size=1000, validation_data=(x_val,y_val))\n",
    "\n"
   ]
  },
  {
   "cell_type": "code",
   "execution_count": 697,
   "metadata": {},
   "outputs": [
    {
     "name": "stdout",
     "output_type": "stream",
     "text": [
      "314/314 [==============================] - 0s 1ms/step\n"
     ]
    }
   ],
   "source": [
    "prediction = model.predict(x_test)"
   ]
  },
  {
   "cell_type": "code",
   "execution_count": 698,
   "metadata": {},
   "outputs": [
    {
     "name": "stdout",
     "output_type": "stream",
     "text": [
      "Accuracy   :  0.16 \n"
     ]
    }
   ],
   "source": [
    "loss, accuracy =  model.evaluate(x_test, y_test, verbose=0)\n",
    "\n",
    "print(\"Accuracy   : {:5.2f} \".format(accuracy))"
   ]
  },
  {
   "cell_type": "code",
   "execution_count": 638,
   "metadata": {},
   "outputs": [
    {
     "name": "stdout",
     "output_type": "stream",
     "text": [
      "314/314 [==============================] - 0s 818us/step\n"
     ]
    },
    {
     "data": {
      "text/plain": [
       "array([0.        , 0.        , 0.        , 0.08426966, 0.02173913,\n",
       "       0.01423488, 0.07588739, 0.29730849, 0.0295858 , 0.03896104,\n",
       "       0.05981795, 0.        , 0.30826667, 0.06459054, 0.26329555,\n",
       "       0.01639344, 0.        , 0.06808511, 0.        , 0.        ,\n",
       "       0.        , 0.04195804, 0.29224652, 0.        , 0.        ,\n",
       "       0.01680672, 0.10822511, 0.21391304, 0.        , 0.        ,\n",
       "       0.100271  , 0.        , 0.02721088, 0.01005025, 0.        ,\n",
       "       0.032     , 0.        , 0.11862643, 0.        , 0.        ,\n",
       "       0.04444444, 0.        , 0.        , 0.06666667, 0.        ,\n",
       "       0.00371058, 0.        , 0.        , 0.01801802, 0.01005025])"
      ]
     },
     "execution_count": 638,
     "metadata": {},
     "output_type": "execute_result"
    }
   ],
   "source": [
    "from sklearn.metrics import f1_score\n",
    "prediction = np.argmax(model.predict(x_test), axis=-1)\n",
    "f1_score(y_test, prediction, average=None)"
   ]
  },
  {
   "cell_type": "code",
   "execution_count": 639,
   "metadata": {},
   "outputs": [],
   "source": [
    "import numpy as np\n",
    "y_test = y_test.astype(int)"
   ]
  },
  {
   "cell_type": "markdown",
   "metadata": {},
   "source": [
    "## Random tree forest classifier\n"
   ]
  },
  {
   "cell_type": "code",
   "execution_count": 640,
   "metadata": {},
   "outputs": [],
   "source": [
    "from sklearn.tree import DecisionTreeClassifier\n"
   ]
  },
  {
   "cell_type": "code",
   "execution_count": 641,
   "metadata": {},
   "outputs": [
    {
     "data": {
      "text/plain": [
       "0.07342100019924287"
      ]
     },
     "execution_count": 641,
     "metadata": {},
     "output_type": "execute_result"
    }
   ],
   "source": [
    "dt=DecisionTreeClassifier()\n",
    "dt.fit(x_train, y_train)\n",
    "dt.score(x_test,y_test)\n"
   ]
  },
  {
   "cell_type": "code",
   "execution_count": 642,
   "metadata": {},
   "outputs": [
    {
     "data": {
      "text/plain": [
       "array([[18],\n",
       "       [18],\n",
       "       [16],\n",
       "       ...,\n",
       "       [27],\n",
       "       [ 7],\n",
       "       [18]])"
      ]
     },
     "execution_count": 642,
     "metadata": {},
     "output_type": "execute_result"
    }
   ],
   "source": [
    "y_test"
   ]
  },
  {
   "cell_type": "code",
   "execution_count": 643,
   "metadata": {},
   "outputs": [
    {
     "data": {
      "image/png": "[encoded data removed]",
      "text/plain": [
       "<Figure size 640x480 with 1 Axes>"
      ]
     },
     "metadata": {},
     "output_type": "display_data"
    }
   ],
   "source": [
    "ypred=dt.predict(x_test)\n",
    "plt.plot(confusion_matrix(y_test, ypred))\n",
    "plt.show()"
   ]
  }
 ],
 "metadata": {
  "kernelspec": {
   "display_name": "Python 3.10.0 64-bit",
   "language": "python",
   "name": "python3"
  },
  "language_info": {
   "codemirror_mode": {
    "name": "ipython",
    "version": 3
   },
   "file_extension": ".py",
   "mimetype": "text/x-python",
   "name": "python",
   "nbconvert_exporter": "python",
   "pygments_lexer": "ipython3",
   "version": "3.10.0"
  },
  "orig_nbformat": 4,
  "vscode": {
   "interpreter": {
    "hash": "26de051ba29f2982a8de78e945f0abaf191376122a1563185a90213a26c5da77"
   }
  }
 },
 "nbformat": 4,
 "nbformat_minor": 2
}
